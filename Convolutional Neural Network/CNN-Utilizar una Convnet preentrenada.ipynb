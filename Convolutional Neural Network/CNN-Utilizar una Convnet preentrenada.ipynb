{
 "cells": [
  {
   "cell_type": "markdown",
   "metadata": {},
   "source": [
    "### UTILIZACION DE CONVNETS PREENTRENADAS PARA CLASIFICACION DOGS VS CATS\n"
   ]
  },
  {
   "cell_type": "markdown",
   "metadata": {},
   "source": [
    "Una red preentrenada es una red guardada que se ha entrenado con anterioridad en un conjunto de datos grandes, por lo general en una tarea de clasificacion de imagenes a gran escala. Si este conjunto de datos original es lo bastantes grande y general, entonces ,la jerarquia espacial de caracteristicas aprendida por la red preentrenada puede actuar de manera efectiva como modelo generico del mundo visual y por tanto, sus caracteristicas pueden actual de manera efectiva como modelo generico del mundo visual y, por tanto, sus caracteristicas pueden resultar utiles para muchos problemas nuevos cuenten con clases completamente diferentes a las de la tarea original.\n",
    "\n",
    "Por ejemplo, podriamos entrenar una red en Imagenet (donde las clases son, sobre todo, animales y objetos cotidianos), y despues, cambiar la finalidad de esta red entrenada para algo tan distinto como identificar muebles en imagenes.\n",
    "Esta es una ventaja clave del deep learning en comparacion con muchos enfoques del shallow learning.\n",
    "\n",
    "En este caso vamos a considerar una convnet grande entrenada con el conjunto de datos ImageNet(1,4 millones de imagenes etiquetadas y 1000 clases diferentes). ImageNet contieen muchas clases de animales, incluidas diferentes especies de gatos y perros, asi que cabe esperar que funcione bien en el problema de clasificacion de perros frente a gatos.\n",
    "\n",
    "Vamos a utilizar la arquitectura VGG16 , desarrollada por Karen Simonyan y Andrew Zimmerman en 2014: se trata de una arquitectura de convnet sencilla y muy utilizada para ImageNet. Aunque es un modelo mas antiguo, lo hemos elegido porque su arquitectura es similar a lo que estamos familiarizado hasta ahora."
   ]
  },
  {
   "cell_type": "markdown",
   "metadata": {},
   "source": [
    "Hay 2 maneras de utilizar una red preentrenada: la extraccion de caracteristicas y el ajuste fino."
   ]
  },
  {
   "cell_type": "markdown",
   "metadata": {},
   "source": [
    "##### EXTRACCION DE CARACTERISTICAS"
   ]
  },
  {
   "cell_type": "markdown",
   "metadata": {},
   "source": [
    "**La extraccion de caracteristicas consiste en utilizar las representaciones aprendidas por una red anterior para extraer caracteristicas interesantes de nuevas muestras. Despues, estas caracteristicas se ejecutan a traves de un nuevo clasificador, que se entrena desde cero.**\n",
    "\n",
    "Como ya hemos visto antes, las convnets utilizadas para la clasificacion de imagenes comprenden 2 partes: empiezan con una serie de capas pooling y de convolucion y acaban con un clasificador densamente conectado. La primera parte se llama \"Base convolucional\" del modelo. En el caso de las convnets, la **extraccion de caracteristicas consiste en tomar la base convolucional de una red entrenada con anterioridad, ejecutando los datos nuevos a traves de ella y entrenando un clasificador nuevo encima de la salida.**"
   ]
  },
  {
   "cell_type": "markdown",
   "metadata": {},
   "source": [
    "Por que reutilizar solo la base convolucional? Podriamos reutilizar tambien el clasificador densamente conectado? En general, deberiamos evitar hacer eso.\n",
    "La razon es que es probable que las representaciones aprendidas por la base convolucional sean genericas y por tanto, mas reutilizables. Los mapas de caracteristicas de una convnet son mapas de presencia de conceptos genericos sobre una imagen, lo que probablemente sera util sin importar cual sea el problema de vision por ordenador que tenemos que resolver. Por otro lado , las representaciones aprendidas por el clasificador seran especificas para el conjunto de clases en las que se ha entrenado el modelo: solo contendran informacion sobre la probabilidad de la presencia de esta o de aquella clase en la imagen completo. Ademas las representaciones que se encuentran en capas densamente conectadas ya no contienen ninguna informacion acerca de donde estan ubicados los objetos en la imagen de entrada: estas capas se deshacen de la nocion de espacio, mientras que la ubicacion del objeto todavia se describe con los mapas de caracteristicas convolucionales. Para problemas en los que la ubicacion de los objetos es importante las caracteristicas de las capas densamente conectadas son inutiles."
   ]
  },
  {
   "cell_type": "markdown",
   "metadata": {},
   "source": [
    "Tenga en cuenta que el nivel de generalidad (y por tanto, de su capacidad para reutilizarse) de las representaciones extraidas por capas de convolucion especificas depende de la profundidad de la capa en el modelo. Las capas que vienen antes en el modelo extraen mapas de caracteristicas locales muy genericos (como bordes visuales, colores y texturas), mientras que las capaz que estan mas arriba extraen conceptos mas abstractos (como \"oreja de gato\" u \"nariz de perro\")\n",
    "Por lo tanto, si nuestro nuevo conjunto de datos difiere mucho del conjunto de datos con el que se entreno el modelo original, puede que sea mejor que utilicemos solo las primeras capas del modelo para realizar la extraccion de caracteristicas , en vez de utilizar la base convolucional completa.\n",
    "En este caso puesto que el conjunto de datos de ImageNet contiene multiples clases de perros y gatos, es probable que sea conveniente reutilizar la informacion contenida en las capas densamente conectadas del modelo original. Pero vamos a elegir no hacerlo, para cubrir el caso mas general.\n",
    "El modelo VGG16 viene incluido en keras. Puede importarse desde el modulo keras.applications"
   ]
  },
  {
   "cell_type": "code",
   "execution_count": 12,
   "metadata": {},
   "outputs": [],
   "source": [
    "#Vamos a crear instancias en el modelo VGG16\n",
    "import tensorflow as tf\n",
    "from tensorflow import keras\n",
    "from tensorflow.keras import layers\n",
    "from tensorflow.keras import optimizers\n",
    "from tensorflow.keras import models\n",
    "from tensorflow.keras.applications import VGG16\n",
    "from tensorflow.keras.preprocessing.image import ImageDataGenerator\n",
    "\n",
    "\n"
   ]
  },
  {
   "cell_type": "code",
   "execution_count": 13,
   "metadata": {},
   "outputs": [],
   "source": [
    "conv_base=VGG16(weights='imagenet',include_top=False,input_shape=(150,150,3))"
   ]
  },
  {
   "cell_type": "markdown",
   "metadata": {},
   "source": [
    "Pasamos 3 argumentos al constructor:\n",
    "- weights: especifica el punto de control de pesos a partir del cual se inicializa el modelo.\n",
    "- include_top: se refiere a incluir o no el clasificador densamente conectado encima de la red. En nuestro caso no lo incluimos.\n",
    "- input_shape: es la forma de los tensores de las imagenes que vamos a introducir en la red. Este argumento es opcional, si no lo pasamos, entonces la red sera capaz de procesar entradas de cuaquier tamaño.\n",
    "\n"
   ]
  },
  {
   "cell_type": "code",
   "execution_count": 14,
   "metadata": {},
   "outputs": [
    {
     "name": "stdout",
     "output_type": "stream",
     "text": [
      "Model: \"vgg16\"\n",
      "_________________________________________________________________\n",
      "Layer (type)                 Output Shape              Param #   \n",
      "=================================================================\n",
      "input_1 (InputLayer)         [(None, 150, 150, 3)]     0         \n",
      "_________________________________________________________________\n",
      "block1_conv1 (Conv2D)        (None, 150, 150, 64)      1792      \n",
      "_________________________________________________________________\n",
      "block1_conv2 (Conv2D)        (None, 150, 150, 64)      36928     \n",
      "_________________________________________________________________\n",
      "block1_pool (MaxPooling2D)   (None, 75, 75, 64)        0         \n",
      "_________________________________________________________________\n",
      "block2_conv1 (Conv2D)        (None, 75, 75, 128)       73856     \n",
      "_________________________________________________________________\n",
      "block2_conv2 (Conv2D)        (None, 75, 75, 128)       147584    \n",
      "_________________________________________________________________\n",
      "block2_pool (MaxPooling2D)   (None, 37, 37, 128)       0         \n",
      "_________________________________________________________________\n",
      "block3_conv1 (Conv2D)        (None, 37, 37, 256)       295168    \n",
      "_________________________________________________________________\n",
      "block3_conv2 (Conv2D)        (None, 37, 37, 256)       590080    \n",
      "_________________________________________________________________\n",
      "block3_conv3 (Conv2D)        (None, 37, 37, 256)       590080    \n",
      "_________________________________________________________________\n",
      "block3_pool (MaxPooling2D)   (None, 18, 18, 256)       0         \n",
      "_________________________________________________________________\n",
      "block4_conv1 (Conv2D)        (None, 18, 18, 512)       1180160   \n",
      "_________________________________________________________________\n",
      "block4_conv2 (Conv2D)        (None, 18, 18, 512)       2359808   \n",
      "_________________________________________________________________\n",
      "block4_conv3 (Conv2D)        (None, 18, 18, 512)       2359808   \n",
      "_________________________________________________________________\n",
      "block4_pool (MaxPooling2D)   (None, 9, 9, 512)         0         \n",
      "_________________________________________________________________\n",
      "block5_conv1 (Conv2D)        (None, 9, 9, 512)         2359808   \n",
      "_________________________________________________________________\n",
      "block5_conv2 (Conv2D)        (None, 9, 9, 512)         2359808   \n",
      "_________________________________________________________________\n",
      "block5_conv3 (Conv2D)        (None, 9, 9, 512)         2359808   \n",
      "_________________________________________________________________\n",
      "block5_pool (MaxPooling2D)   (None, 4, 4, 512)         0         \n",
      "=================================================================\n",
      "Total params: 14,714,688\n",
      "Trainable params: 14,714,688\n",
      "Non-trainable params: 0\n",
      "_________________________________________________________________\n"
     ]
    }
   ],
   "source": [
    "#veamos los detalle de la arquitectura\n",
    "\n",
    "conv_base.summary()"
   ]
  },
  {
   "cell_type": "markdown",
   "metadata": {},
   "source": [
    "El mapa de caracteristicas final tiene la forma (4,4 512). Esa es la caracteristica encima de la cual pondremos un clasificador densamente conectado.\n",
    "En este punto podemos proceder de dos maneras:\n",
    "\n",
    "- Ejecutando la base convolucional sobre el conjunto de datos , grabando su salida a una matriz Numpy en un disco y utilizando despues esos datos como entrada para un clasificador independiente densamente conectado. Esta solucion es rapida y barata a la hora de ejecutarse, porque solo requiere la ejecucion de la base convolucional una vez para cada imagen de entrada, y la base convolucional es con diferencia la parte mas cara de la pipeline. Pero, por esa misma razon, esta tecnica no nos permite utilizar aumento de datos.\n",
    "\n",
    "- Ampliando el modelo que tenemos (conv_base) agregando capas Dense encima y ejecutandolo todo de principio a fin con los datos de entrada. Esto nos permitira usar aumento de datos, porque cada imagen de entrada pasa a traves de la base convolucional cada vez que el modelo la ve. Pero por la misma razon, esta tecnica es mucho mas cara que la primera.\n",
    "\n",
    "A continuacion explicaremos ambas tecnicas."
   ]
  },
  {
   "cell_type": "markdown",
   "metadata": {},
   "source": [
    "### EXTRACCION DE CARACTERISTICAS RAPIDA SIN AUMENTO DE DATOS"
   ]
  },
  {
   "cell_type": "markdown",
   "metadata": {},
   "source": [
    "Vamos a empezar por ejecutar instancias de ImageDataGenerator introducidas con anterioridad para extraer imagenes como matrices Numpy, asi como sus etiquetas. Para extraer caracteristicas de estas imagenes, llamamos al metodo *predict* del modelo conv_base"
   ]
  },
  {
   "cell_type": "code",
   "execution_count": 15,
   "metadata": {},
   "outputs": [],
   "source": [
    "import os \n",
    "import numpy as np"
   ]
  },
  {
   "cell_type": "code",
   "execution_count": 16,
   "metadata": {},
   "outputs": [],
   "source": [
    "train_dir='C:/Users/joaqu/Downloads/dogs-vs-cats-small/train'\n",
    "validation_dir='C:/Users/joaqu/Downloads/dogs-vs-cats-small/validation'\n",
    "test_dir='C:/Users/joaqu/Downloads/dogs-vs-cats-small/test'"
   ]
  },
  {
   "cell_type": "code",
   "execution_count": 17,
   "metadata": {},
   "outputs": [],
   "source": [
    "datagen=ImageDataGenerator(rescale=1./255)\n",
    "batch_size=20\n"
   ]
  },
  {
   "cell_type": "code",
   "execution_count": 18,
   "metadata": {},
   "outputs": [],
   "source": [
    "def extract_features(directory,sample_count):\n",
    "    features=np.zeros(shape=(sample_count,4,4,512)) #tamano de la ultima capa de VGG16\n",
    "    labels=np.zeros(shape=(sample_count,))\n",
    "    generator=datagen.flow_from_directory(directory,target_size=(150,150),batch_size=batch_size,class_mode='binary')\n",
    "    i=0\n",
    "    for inputs_batch,labels_batch in generator:\n",
    "        features_batch=conv_base.predict(inputs_batch)\n",
    "        features[i*batch_size:(i+1)*batch_size]=features_batch\n",
    "        labels[i*batch_size:(i+1)*batch_size]=labels_batch\n",
    "        i+=1\n",
    "        if i*batch_size>=sample_count:\n",
    "            break # como los generadores producen datos indefinidamente hay que romper el bucle cuando cada imagen se ve una vez\n",
    "    return features,labels"
   ]
  },
  {
   "cell_type": "code",
   "execution_count": 19,
   "metadata": {},
   "outputs": [
    {
     "name": "stdout",
     "output_type": "stream",
     "text": [
      "Found 2000 images belonging to 2 classes.\n"
     ]
    }
   ],
   "source": [
    "train_features, train_labels=extract_features(directory=train_dir,sample_count=2000)"
   ]
  },
  {
   "cell_type": "code",
   "execution_count": 20,
   "metadata": {},
   "outputs": [
    {
     "name": "stdout",
     "output_type": "stream",
     "text": [
      "Found 1000 images belonging to 2 classes.\n"
     ]
    }
   ],
   "source": [
    "validation_features,validation_labels=extract_features(validation_dir,1000)"
   ]
  },
  {
   "cell_type": "code",
   "execution_count": 21,
   "metadata": {},
   "outputs": [
    {
     "name": "stdout",
     "output_type": "stream",
     "text": [
      "Found 1000 images belonging to 2 classes.\n"
     ]
    }
   ],
   "source": [
    "test_features, test_labels=extract_features(test_dir,1000)"
   ]
  },
  {
   "cell_type": "markdown",
   "metadata": {},
   "source": [
    "Las caracteristicas extraidas tienen en este momento la forma (samples,4,4,512). Vamos a introducirlas en un clasificador densamente conectado asique primero tenemos que aplanarlas."
   ]
  },
  {
   "cell_type": "code",
   "execution_count": 32,
   "metadata": {},
   "outputs": [],
   "source": [
    "train_features=np.reshape(train_features,(2000,4*4*512))\n",
    "validation_features=np.reshape(validation_features,(1000,4*4*512))\n",
    "test_features=np.reshape(test_features,(1000,4*4*512))"
   ]
  },
  {
   "cell_type": "markdown",
   "metadata": {},
   "source": [
    "En este punto podemos definir el clasificador densamentes conectado y entrenarlo con los datos y etiquetas que acabamos de get_reachable_from_inputs"
   ]
  },
  {
   "cell_type": "code",
   "execution_count": 25,
   "metadata": {},
   "outputs": [],
   "source": [
    "from tensorflow.keras import layers,models,optimizers"
   ]
  },
  {
   "cell_type": "code",
   "execution_count": 27,
   "metadata": {},
   "outputs": [],
   "source": [
    "model=models.Sequential()\n",
    "model.add(layers.Dense(256,activation='relu',input_dim=4*4*512))\n",
    "model.add(layers.Dropout(0.5))\n",
    "model.add(layers.Dense(1,activation='sigmoid'))"
   ]
  },
  {
   "cell_type": "code",
   "execution_count": 35,
   "metadata": {},
   "outputs": [],
   "source": [
    "model.compile(optimizer=optimizers.RMSprop(learning_rate=2e-5),loss='binary_crossentropy',metrics=['acc'])"
   ]
  },
  {
   "cell_type": "code",
   "execution_count": 36,
   "metadata": {},
   "outputs": [
    {
     "name": "stdout",
     "output_type": "stream",
     "text": [
      "Epoch 1/30\n",
      "100/100 [==============================] - 4s 34ms/step - loss: 0.6004 - acc: 0.6625 - val_loss: 0.4449 - val_acc: 0.8250\n",
      "Epoch 2/30\n",
      "100/100 [==============================] - 3s 31ms/step - loss: 0.4243 - acc: 0.8100 - val_loss: 0.3606 - val_acc: 0.8660\n",
      "Epoch 3/30\n",
      "100/100 [==============================] - 3s 32ms/step - loss: 0.3476 - acc: 0.8565 - val_loss: 0.3152 - val_acc: 0.8870\n",
      "Epoch 4/30\n",
      "100/100 [==============================] - 3s 31ms/step - loss: 0.3165 - acc: 0.8700 - val_loss: 0.2970 - val_acc: 0.8860\n",
      "Epoch 5/30\n",
      "100/100 [==============================] - 3s 32ms/step - loss: 0.2877 - acc: 0.8855 - val_loss: 0.2796 - val_acc: 0.8910\n",
      "Epoch 6/30\n",
      "100/100 [==============================] - 3s 32ms/step - loss: 0.2593 - acc: 0.9010 - val_loss: 0.2640 - val_acc: 0.8940\n",
      "Epoch 7/30\n",
      "100/100 [==============================] - 3s 33ms/step - loss: 0.2439 - acc: 0.9045 - val_loss: 0.2584 - val_acc: 0.8980\n",
      "Epoch 8/30\n",
      "100/100 [==============================] - 3s 33ms/step - loss: 0.2359 - acc: 0.9115 - val_loss: 0.2498 - val_acc: 0.9060\n",
      "Epoch 9/30\n",
      "100/100 [==============================] - 3s 33ms/step - loss: 0.2236 - acc: 0.9125 - val_loss: 0.2464 - val_acc: 0.9030\n",
      "Epoch 10/30\n",
      "100/100 [==============================] - 3s 33ms/step - loss: 0.2115 - acc: 0.9230 - val_loss: 0.2434 - val_acc: 0.9030\n",
      "Epoch 11/30\n",
      "100/100 [==============================] - 3s 34ms/step - loss: 0.2003 - acc: 0.9280 - val_loss: 0.2392 - val_acc: 0.9070\n",
      "Epoch 12/30\n",
      "100/100 [==============================] - 3s 26ms/step - loss: 0.1902 - acc: 0.9305 - val_loss: 0.2409 - val_acc: 0.9000\n",
      "Epoch 13/30\n",
      "100/100 [==============================] - 3s 26ms/step - loss: 0.1844 - acc: 0.9335 - val_loss: 0.2356 - val_acc: 0.9050\n",
      "Epoch 14/30\n",
      "100/100 [==============================] - 3s 26ms/step - loss: 0.1760 - acc: 0.9385 - val_loss: 0.2391 - val_acc: 0.9020\n",
      "Epoch 15/30\n",
      "100/100 [==============================] - 3s 26ms/step - loss: 0.1668 - acc: 0.9425 - val_loss: 0.2321 - val_acc: 0.9060\n",
      "Epoch 16/30\n",
      "100/100 [==============================] - 3s 26ms/step - loss: 0.1538 - acc: 0.9435 - val_loss: 0.2360 - val_acc: 0.9050\n",
      "Epoch 17/30\n",
      "100/100 [==============================] - 3s 27ms/step - loss: 0.1526 - acc: 0.9480 - val_loss: 0.2306 - val_acc: 0.9090\n",
      "Epoch 18/30\n",
      "100/100 [==============================] - 3s 27ms/step - loss: 0.1460 - acc: 0.9550 - val_loss: 0.2329 - val_acc: 0.9070\n",
      "Epoch 19/30\n",
      "100/100 [==============================] - 3s 27ms/step - loss: 0.1378 - acc: 0.9530 - val_loss: 0.2295 - val_acc: 0.9100\n",
      "Epoch 20/30\n",
      "100/100 [==============================] - 3s 27ms/step - loss: 0.1337 - acc: 0.9525 - val_loss: 0.2292 - val_acc: 0.9100\n",
      "Epoch 21/30\n",
      "100/100 [==============================] - 3s 26ms/step - loss: 0.1298 - acc: 0.9520 - val_loss: 0.2349 - val_acc: 0.9080\n",
      "Epoch 22/30\n",
      "100/100 [==============================] - 3s 27ms/step - loss: 0.1280 - acc: 0.9525 - val_loss: 0.2323 - val_acc: 0.9080\n",
      "Epoch 23/30\n",
      "100/100 [==============================] - 3s 27ms/step - loss: 0.1184 - acc: 0.9600 - val_loss: 0.2340 - val_acc: 0.9070\n",
      "Epoch 24/30\n",
      "100/100 [==============================] - 3s 26ms/step - loss: 0.1185 - acc: 0.9615 - val_loss: 0.2331 - val_acc: 0.9070\n",
      "Epoch 25/30\n",
      "100/100 [==============================] - 3s 26ms/step - loss: 0.1105 - acc: 0.9615 - val_loss: 0.2295 - val_acc: 0.9080\n",
      "Epoch 26/30\n",
      "100/100 [==============================] - 3s 27ms/step - loss: 0.1073 - acc: 0.9660 - val_loss: 0.2313 - val_acc: 0.9070\n",
      "Epoch 27/30\n",
      "100/100 [==============================] - 3s 26ms/step - loss: 0.1037 - acc: 0.9655 - val_loss: 0.2300 - val_acc: 0.9090\n",
      "Epoch 28/30\n",
      "100/100 [==============================] - 3s 28ms/step - loss: 0.0971 - acc: 0.9695 - val_loss: 0.2345 - val_acc: 0.9070\n",
      "Epoch 29/30\n",
      "100/100 [==============================] - 3s 27ms/step - loss: 0.0934 - acc: 0.9705 - val_loss: 0.2341 - val_acc: 0.9070\n",
      "Epoch 30/30\n",
      "100/100 [==============================] - 3s 27ms/step - loss: 0.0897 - acc: 0.9740 - val_loss: 0.2324 - val_acc: 0.9070\n"
     ]
    }
   ],
   "source": [
    "history=model.fit(train_features,train_labels,epochs=30,batch_size=20,validation_data=(validation_features,validation_labels))"
   ]
  },
  {
   "cell_type": "markdown",
   "metadata": {},
   "source": [
    "El entrenamiento es muy rapido ya que hay 2 capas dense. Dibujemos las metricas para el conjunto de entrenamiento y de validacion"
   ]
  },
  {
   "cell_type": "code",
   "execution_count": 41,
   "metadata": {},
   "outputs": [
    {
     "data": {
      "image/png": "[encoded data removed]",
      "text/plain": [
       "<Figure size 432x288 with 1 Axes>"
      ]
     },
     "metadata": {
      "needs_background": "light"
     },
     "output_type": "display_data"
    },
    {
     "data": {
      "image/png": "[encoded data removed]",
      "text/plain": [
       "<Figure size 432x288 with 1 Axes>"
      ]
     },
     "metadata": {
      "needs_background": "light"
     },
     "output_type": "display_data"
    }
   ],
   "source": [
    "import matplotlib.pyplot as plt\n",
    "\n",
    "acc=history.history['acc']\n",
    "val_acc=history.history['val_acc']\n",
    "loss=history.history['loss']\n",
    "val_loss=history.history['val_loss']\n",
    "epochs=range(1,len(acc)+1)\n",
    "\n",
    "plt.plot(epochs,acc,'bo',label='Trainin Acc')\n",
    "plt.plot(epochs,val_acc,'b',label='Validation acc')\n",
    "plt.title('Training and Validation loss')\n",
    "plt.legend()\n",
    "\n",
    "plt.figure()\n",
    "\n",
    "plt.plot(epochs,loss,'bo',label='Trainin Loss')\n",
    "plt.plot(epochs,val_loss,'b',label='Validation Loss')\n",
    "plt.title('Training and Validation loss')\n",
    "plt.legend()\n",
    "\n",
    "plt.show()"
   ]
  },
  {
   "cell_type": "markdown",
   "metadata": {},
   "source": [
    "Conseguimos una exactitud de validacion del 90%, mucho mejor que la que habiamos conseguido en la seccion anterior con el modelo chico entrenado desde 0.as_integer_ratio. Pero los graficos tambien indican que estamos sobreajustando casi desde el principio, pese a utilizar dropout con una tasa alta. Esto se debe a que esta tecnica no usa aumento de datos."
   ]
  },
  {
   "cell_type": "markdown",
   "metadata": {},
   "source": [
    "### EXTRACCION DE CARACTERISTICAS CON AUMENTO DE DATOS"
   ]
  },
  {
   "cell_type": "markdown",
   "metadata": {},
   "source": [
    "Esta tecnica es mas lenta y cara pero permite usar el aumento de datos durante el entrenamiento: amplia el modelo conv_base y lo ejecuta de principio a fin en las entradas"
   ]
  },
  {
   "cell_type": "markdown",
   "metadata": {},
   "source": [
    "\n",
    "Puesto que los modelos se comportan como capas podemos agregar un modelo (como conv_base) a un modelo Sequential del mismo modo en que agregamos una capa."
   ]
  },
  {
   "cell_type": "code",
   "execution_count": 59,
   "metadata": {},
   "outputs": [],
   "source": [
    "model1=models.Sequential()\n",
    "model1.add(conv_base)\n",
    "model1.add(layers.Flatten())\n",
    "model1.add(layers.Dense(256,activation='relu'))\n",
    "model1.add(layers.Dense(1,activation='sigmoid'))\n"
   ]
  },
  {
   "cell_type": "code",
   "execution_count": 60,
   "metadata": {},
   "outputs": [
    {
     "name": "stdout",
     "output_type": "stream",
     "text": [
      "Model: \"sequential_4\"\n",
      "_________________________________________________________________\n",
      "Layer (type)                 Output Shape              Param #   \n",
      "=================================================================\n",
      "vgg16 (Functional)           (None, 4, 4, 512)         14714688  \n",
      "_________________________________________________________________\n",
      "flatten_2 (Flatten)          (None, 8192)              0         \n",
      "_________________________________________________________________\n",
      "dense_7 (Dense)              (None, 256)               2097408   \n",
      "_________________________________________________________________\n",
      "dense_8 (Dense)              (None, 1)                 257       \n",
      "=================================================================\n",
      "Total params: 16,812,353\n",
      "Trainable params: 2,097,665\n",
      "Non-trainable params: 14,714,688\n",
      "_________________________________________________________________\n"
     ]
    }
   ],
   "source": [
    "model1.summary()"
   ]
  },
  {
   "cell_type": "markdown",
   "metadata": {},
   "source": [
    "La base convolucional de VGG16 tiene 14.712.688 parametros, lo cual es mucho. El clasificador que agregamos encima tiene 2 millones de parametros.\n",
    "\n",
    "Antes de compilar y entrenar el modelo, es muy importante congelar la base convolucional. **CONGELAR** una capa o conjunto de capas significa evitar que sus pesos se actualicen durante el entrenamiento. Si no lo hacemos, las representaciones aprendidas con anterioridad por la base convolucional se modificaran durante el entrenamiento. Puesto que las capas  Dense, en la parte superior se inicializan de manera aleatoria, las actualizaciones de pesos muy grandes se propagarian por toda la red, destruyendo de forma efectiva las representaciones aprendidas anteriormente.\n",
    "\n",
    "En keras para congelar una red tenemos que configurar su atributo trainable como false:"
   ]
  },
  {
   "cell_type": "code",
   "execution_count": 61,
   "metadata": {},
   "outputs": [
    {
     "name": "stdout",
     "output_type": "stream",
     "text": [
      "This is the number of trainable weights before freezing the conv_base: 4\n"
     ]
    }
   ],
   "source": [
    "print('This is the number of trainable weights before freezing the conv_base:',len(model1.trainable_weights))"
   ]
  },
  {
   "cell_type": "code",
   "execution_count": 62,
   "metadata": {},
   "outputs": [
    {
     "name": "stdout",
     "output_type": "stream",
     "text": [
      "This is the number of trainable weight after freezing the conv_base 4\n"
     ]
    }
   ],
   "source": [
    "conv_base.trainable=False\n",
    "print('This is the number of trainable weight after freezing the conv_base',len(model1.trainable_weights))"
   ]
  },
  {
   "cell_type": "markdown",
   "metadata": {},
   "source": [
    "Con esta configuracion soolo se entrenara los pesos de las 2 capas Dense que hemos agregado. Eso hace un total de 4 tensores de peso: dos por capa(la matriz de peso principal y el vector de sesgo). Tenga en cuenta que para que estos cambios surtan efecto, primero hay que compilar el modelo. Si modificamos la capacidad de entrenamiento de los pesos tras la compilacion, entonces deberiamos volver a compilar el modelo, o esos cambios se ignoraran.\n",
    "Ahora empecemos a entrenar el modelo, con la misma configuracion de aumento de datos que hemos utilizado en el ejemplo anterior."
   ]
  },
  {
   "cell_type": "markdown",
   "metadata": {},
   "source": [
    "Entrenemos el modelo de extremo a extremo con una base convolucional congelada."
   ]
  },
  {
   "cell_type": "code",
   "execution_count": 55,
   "metadata": {},
   "outputs": [],
   "source": [
    "#instanciamos la clase ImageDataGenerator definiendo las transformaciones que deseamos realizar sobre las imagenes.\n",
    "train_datagen=ImageDataGenerator(rescale=1./255,\n",
    "rotation_range=40,\n",
    "width_shift_range=0.2,\n",
    "height_shift_range=0.2,\n",
    "shear_range=0.2,\n",
    "zoom_range=0.2,\n",
    "horizontal_flip=True,\n",
    "fill_mode='nearest'\n",
    ")"
   ]
  },
  {
   "cell_type": "code",
   "execution_count": 56,
   "metadata": {},
   "outputs": [],
   "source": [
    "test_datagen=ImageDataGenerator(rescale=1./255)"
   ]
  },
  {
   "cell_type": "code",
   "execution_count": 57,
   "metadata": {},
   "outputs": [
    {
     "name": "stdout",
     "output_type": "stream",
     "text": [
      "Found 2000 images belonging to 2 classes.\n"
     ]
    }
   ],
   "source": [
    "train_generator=train_datagen.flow_from_directory(train_dir,target_size=(150,150),batch_size=20,class_mode='binary')"
   ]
  },
  {
   "cell_type": "code",
   "execution_count": 58,
   "metadata": {},
   "outputs": [
    {
     "name": "stdout",
     "output_type": "stream",
     "text": [
      "Found 1000 images belonging to 2 classes.\n"
     ]
    }
   ],
   "source": [
    "validation_generator=test_datagen.flow_from_directory(validation_dir,target_size=(150,150),batch_size=20,class_mode='binary')"
   ]
  },
  {
   "cell_type": "code",
   "execution_count": 63,
   "metadata": {},
   "outputs": [],
   "source": [
    "#compilamos el modelo\n",
    "model1.compile(loss='binary_crossentropy',optimizer=optimizers.RMSprop(learning_rate=2e-5),metrics=['acc'])"
   ]
  },
  {
   "cell_type": "code",
   "execution_count": 64,
   "metadata": {},
   "outputs": [
    {
     "name": "stdout",
     "output_type": "stream",
     "text": [
      "Epoch 1/30\n",
      "100/100 [==============================] - 111s 1s/step - loss: 0.5991 - acc: 0.6645 - val_loss: 0.4462 - val_acc: 0.8340\n",
      "Epoch 2/30\n",
      "100/100 [==============================] - 108s 1s/step - loss: 0.4809 - acc: 0.7910 - val_loss: 0.3630 - val_acc: 0.8660\n",
      "Epoch 3/30\n",
      "100/100 [==============================] - 103s 1s/step - loss: 0.4278 - acc: 0.8190 - val_loss: 0.3261 - val_acc: 0.8680\n",
      "Epoch 4/30\n",
      "100/100 [==============================] - 118s 1s/step - loss: 0.4068 - acc: 0.8130 - val_loss: 0.2983 - val_acc: 0.8860\n",
      "Epoch 5/30\n",
      "100/100 [==============================] - 105s 1s/step - loss: 0.3894 - acc: 0.8175 - val_loss: 0.2848 - val_acc: 0.8850\n",
      "Epoch 6/30\n",
      "100/100 [==============================] - 105s 1s/step - loss: 0.3626 - acc: 0.8465 - val_loss: 0.2754 - val_acc: 0.8880\n",
      "Epoch 7/30\n",
      "100/100 [==============================] - 109s 1s/step - loss: 0.3611 - acc: 0.8405 - val_loss: 0.2661 - val_acc: 0.8880\n",
      "Epoch 8/30\n",
      "100/100 [==============================] - 104s 1s/step - loss: 0.3394 - acc: 0.8545 - val_loss: 0.2607 - val_acc: 0.8920\n",
      "Epoch 9/30\n",
      "100/100 [==============================] - 107s 1s/step - loss: 0.3440 - acc: 0.8485 - val_loss: 0.2586 - val_acc: 0.8940\n",
      "Epoch 10/30\n",
      "100/100 [==============================] - 108s 1s/step - loss: 0.3323 - acc: 0.8555 - val_loss: 0.2537 - val_acc: 0.8960\n",
      "Epoch 11/30\n",
      "100/100 [==============================] - 106s 1s/step - loss: 0.3161 - acc: 0.8630 - val_loss: 0.2497 - val_acc: 0.8990\n",
      "Epoch 12/30\n",
      "100/100 [==============================] - 109s 1s/step - loss: 0.3261 - acc: 0.8620 - val_loss: 0.2500 - val_acc: 0.8970\n",
      "Epoch 13/30\n",
      "100/100 [==============================] - 106s 1s/step - loss: 0.3262 - acc: 0.8640 - val_loss: 0.2407 - val_acc: 0.9040\n",
      "Epoch 14/30\n",
      "100/100 [==============================] - 105s 1s/step - loss: 0.3187 - acc: 0.8500 - val_loss: 0.2403 - val_acc: 0.9020\n",
      "Epoch 15/30\n",
      "100/100 [==============================] - 105s 1s/step - loss: 0.3199 - acc: 0.8540 - val_loss: 0.2462 - val_acc: 0.8950\n",
      "Epoch 16/30\n",
      "100/100 [==============================] - 114s 1s/step - loss: 0.3153 - acc: 0.8685 - val_loss: 0.2387 - val_acc: 0.9050\n",
      "Epoch 17/30\n",
      "100/100 [==============================] - 120s 1s/step - loss: 0.3077 - acc: 0.8665 - val_loss: 0.2660 - val_acc: 0.8860\n",
      "Epoch 18/30\n",
      "100/100 [==============================] - 120s 1s/step - loss: 0.3031 - acc: 0.8620 - val_loss: 0.2404 - val_acc: 0.9000\n",
      "Epoch 19/30\n",
      "100/100 [==============================] - 119s 1s/step - loss: 0.3013 - acc: 0.8800 - val_loss: 0.2421 - val_acc: 0.8960\n",
      "Epoch 20/30\n",
      "100/100 [==============================] - 119s 1s/step - loss: 0.3002 - acc: 0.8660 - val_loss: 0.2375 - val_acc: 0.9000\n",
      "Epoch 21/30\n",
      "100/100 [==============================] - 279s 3s/step - loss: 0.2955 - acc: 0.8745 - val_loss: 0.2464 - val_acc: 0.9020\n",
      "Epoch 22/30\n",
      "100/100 [==============================] - 418s 4s/step - loss: 0.2992 - acc: 0.8665 - val_loss: 0.2389 - val_acc: 0.8990\n",
      "Epoch 23/30\n",
      "100/100 [==============================] - 390s 4s/step - loss: 0.2914 - acc: 0.8720 - val_loss: 0.2403 - val_acc: 0.8960\n",
      "Epoch 24/30\n",
      "100/100 [==============================] - 313s 3s/step - loss: 0.2888 - acc: 0.8780 - val_loss: 0.2424 - val_acc: 0.9050\n",
      "Epoch 25/30\n",
      "100/100 [==============================] - 123s 1s/step - loss: 0.2913 - acc: 0.8835 - val_loss: 0.2623 - val_acc: 0.8860\n",
      "Epoch 26/30\n",
      "100/100 [==============================] - 113s 1s/step - loss: 0.2784 - acc: 0.8845 - val_loss: 0.2352 - val_acc: 0.9050\n",
      "Epoch 27/30\n",
      "100/100 [==============================] - 116s 1s/step - loss: 0.2753 - acc: 0.8860 - val_loss: 0.2406 - val_acc: 0.9040\n",
      "Epoch 28/30\n",
      "100/100 [==============================] - 114s 1s/step - loss: 0.2801 - acc: 0.8780 - val_loss: 0.2393 - val_acc: 0.9060\n",
      "Epoch 29/30\n",
      "100/100 [==============================] - 114s 1s/step - loss: 0.2831 - acc: 0.8720 - val_loss: 0.2362 - val_acc: 0.9010\n",
      "Epoch 30/30\n",
      "100/100 [==============================] - 115s 1s/step - loss: 0.2832 - acc: 0.8785 - val_loss: 0.2355 - val_acc: 0.9080\n"
     ]
    },
    {
     "data": {
      "text/plain": [
       "<keras.callbacks.History at 0x18886ea2f70>"
      ]
     },
     "execution_count": 64,
     "metadata": {},
     "output_type": "execute_result"
    }
   ],
   "source": [
    "model1.fit(train_generator,steps_per_epoch=100,epochs=30,validation_data=validation_generator,validation_steps=50)"
   ]
  },
  {
   "cell_type": "code",
   "execution_count": 67,
   "metadata": {},
   "outputs": [
    {
     "data": {
      "image/png": "[encoded data removed]",
      "text/plain": [
       "<Figure size 432x288 with 1 Axes>"
      ]
     },
     "metadata": {
      "needs_background": "light"
     },
     "output_type": "display_data"
    },
    {
     "data": {
      "image/png": "[encoded data removed]",
      "text/plain": [
       "<Figure size 432x288 with 1 Axes>"
      ]
     },
     "metadata": {
      "needs_background": "light"
     },
     "output_type": "display_data"
    }
   ],
   "source": [
    "\n",
    "acc=model1.history.history['acc']\n",
    "val_acc=model1.history.history['val_acc']\n",
    "loss=model1.history.history['loss']\n",
    "val_loss=model1.history.history['val_loss']\n",
    "epochs=range(1,len(acc)+1)\n",
    "\n",
    "plt.plot(epochs,acc,'bo',label='Trainin Acc')\n",
    "plt.plot(epochs,val_acc,'b',label='Validation acc')\n",
    "plt.title('Training and Validation Accuracy')\n",
    "plt.legend()\n",
    "\n",
    "plt.figure()\n",
    "\n",
    "plt.plot(epochs,loss,'bo',label='Trainin Loss')\n",
    "plt.plot(epochs,val_loss,'b',label='Validation Loss')\n",
    "plt.title('Training and Validation loss')\n",
    "plt.legend()\n",
    "\n",
    "plt.show()"
   ]
  },
  {
   "cell_type": "markdown",
   "metadata": {},
   "source": [
    "Como vemos logramos una exactitud cercana al 91%  que es mucho mejor que lo que obteniamos con una convnet entrenada de 0."
   ]
  }
 ],
 "metadata": {
  "interpreter": {
   "hash": "a5b1ca146a2b6c1dad98eb34c68ce0978784e2a044fb88d9a2019968fdd7143a"
  },
  "kernelspec": {
   "display_name": "Python 3.9.7 64-bit ('ambienteML': conda)",
   "language": "python",
   "name": "python3"
  },
  "language_info": {
   "codemirror_mode": {
    "name": "ipython",
    "version": 3
   },
   "file_extension": ".py",
   "mimetype": "text/x-python",
   "name": "python",
   "nbconvert_exporter": "python",
   "pygments_lexer": "ipython3",
   "version": "3.9.7"
  },
  "orig_nbformat": 4
 },
 "nbformat": 4,
 "nbformat_minor": 2
}
