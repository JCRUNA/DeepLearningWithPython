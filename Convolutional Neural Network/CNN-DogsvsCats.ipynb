{
 "cells": [
  {
   "cell_type": "markdown",
   "metadata": {},
   "source": [
    "## La relevancia del Deep Learning para pocos datos"
   ]
  },
  {
   "cell_type": "markdown",
   "metadata": {},
   "source": [
    "A veces escuchamos que el deep learning solo funciona cuando hay disponibles muchos datos. Esto es cierto en parte: una caracteristica fundamental del **deep learning** es que puede encontrar caracteristicas interesantes en los datos de entrenamiento por si mismo, sin que necesite ninguna ingenieria de caracteristicas manual, pero eso solo puede conseguirse cuando hay muchos datos de entrenamiento. Esto en en general es cierto cuando las muestras de entrada tienen muchas dimensiones, como las imagenes.\n",
    "\n",
    "Pero lo que constituye muchas muestras es relativo, relativo segun la profundidad de la red o el tamaño. Por ejemplo no es posible entrenar una convnet para resolver un problema complejo con solo unas decenas de muestras, pero algunos cientos pueden ser suficientes si el modelo esta regularizado y si la tarea es sencilla.\n",
    "\n",
    "Puesto que las convnets aprenden caracteristicas locales con invariancia traslacional, tiene una gran eficiencia de datos en problemas perceptuales. Entrenar una convnet desde 0 en un conjunto de imagenes muy pequeño seguira generando resultados razonables pese a la relativa falta de datos, sin necesidad de que se utilice una ingenieria de caracteristicas.\n",
    "\n",
    "Ademas los modelos de deep learning tienen por naturaleza una gran capacidad para cambiar de finalidad: podriamos tomar un modelo de clasificacion de imagenes entrenado con un conjunto de datos a gran escala y reutilizarlo en problemas diferentes con solo algunos cambios menores.\n",
    "Esto es lo que vamos a hacer en este cuaderno.\n",
    "Primero empezaremos con la descarga de los datos "
   ]
  },
  {
   "cell_type": "code",
   "execution_count": 1,
   "metadata": {},
   "outputs": [],
   "source": [
    "import keras\n",
    "import os, shutil"
   ]
  },
  {
   "cell_type": "markdown",
   "metadata": {},
   "source": [
    "### Descargar los datos"
   ]
  },
  {
   "cell_type": "markdown",
   "metadata": {},
   "source": [
    "El conjunto de datos Dogs vs. Cats no se incluye en keras. Kaggle lo puso a disposicion en 2013, cuando las convnets no eran populares.\n",
    "\n",
    "Puede descargarlo aqui: https://www.kaggle.com/c/dogs-vs-cats/data"
   ]
  },
  {
   "cell_type": "markdown",
   "metadata": {},
   "source": [
    "Las imagenes son en color , de resolucion media y formato JPEG.\n",
    "\n",
    "Como era de esperar la competicion de 2013 la ganaron participantes que usaron convnets. Obtuvieron una exactitud del 95%. \n",
    "La idea de este notebook va ser acercarnos a esa valor pero usando solo el 10% de los datos que estan disponibles.\n",
    "\n",
    "El conjunto de datos contiene 25.000 imagenes de perros y gatos (12.500 de cada clase)\n",
    "Luego de descargarlo y descomprimirlo vamos a crear un nuevo conjunto de datos con 3 subconjuntos: un conjunto de entrenamiento con 1000 muestras de cada clase, un conjunto de validacion con 500 muestras de cada clase y un conjunto de prueba con 500 muestras de cada clase."
   ]
  },
  {
   "cell_type": "markdown",
   "metadata": {},
   "source": [
    "#### 1.1 Copiar imagenes en directorios de entrenamiento, validacion y prueba"
   ]
  },
  {
   "cell_type": "code",
   "execution_count": 2,
   "metadata": {},
   "outputs": [
    {
     "name": "stdout",
     "output_type": "stream",
     "text": [
      "C:\\Users\\joaqu\n"
     ]
    }
   ],
   "source": [
    "cd"
   ]
  },
  {
   "cell_type": "code",
   "execution_count": 16,
   "metadata": {},
   "outputs": [],
   "source": [
    "# Ruta a directorio donde descomprimi el dataset original\n",
    "original_dataset_dir1='C:/Users/joaqu/Downloads/dogs-vs-cats/train'\n"
   ]
  },
  {
   "cell_type": "code",
   "execution_count": 6,
   "metadata": {},
   "outputs": [],
   "source": [
    "#directorio donde guardo el dataset mas chico\n",
    "base_dir='C:/Users/joaqu/Downloads/dogs-vs-cats-small'\n",
    "os.makedirs(base_dir) #creo directorio"
   ]
  },
  {
   "cell_type": "code",
   "execution_count": 7,
   "metadata": {},
   "outputs": [],
   "source": [
    "#Creo directorios con carpeta train , validation y test\n",
    "train_dir= os.path.join(base_dir,'train')\n",
    "os.mkdir(train_dir)\n",
    "validation_dir= os.path.join(base_dir,'validation')\n",
    "os.mkdir(validation_dir)\n",
    "test_dir= os.path.join(base_dir,'test')\n",
    "os.mkdir(test_dir)"
   ]
  },
  {
   "cell_type": "code",
   "execution_count": 8,
   "metadata": {},
   "outputs": [],
   "source": [
    "#creo carptetas dentro de cada directorio para luego guardar imagenes de gatos\n",
    "train_cat_dir=os.path.join(train_dir,'cats')\n",
    "os.makedirs(train_cat_dir)\n",
    "\n",
    "validation_cat_dir=os.path.join(validation_dir,'cats')\n",
    "os.makedirs(validation_cat_dir)\n",
    "\n",
    "test_cat_dir=os.path.join(test_dir,'cats')\n",
    "os.makedirs(test_cat_dir)\n",
    "\n",
    "\n"
   ]
  },
  {
   "cell_type": "code",
   "execution_count": 9,
   "metadata": {},
   "outputs": [],
   "source": [
    "#creo carptetas dentro de cada directorio para luego guardar imagenes de perros\n",
    "train_dog_dir=os.path.join(train_dir,'dogs')\n",
    "os.makedirs(train_dog_dir)\n",
    "\n",
    "validation_dog_dir=os.path.join(validation_dir,'dogs')\n",
    "os.makedirs(validation_dog_dir)\n",
    "\n",
    "test_dog_dir=os.path.join(test_dir,'dogs')\n",
    "os.makedirs(test_dog_dir)"
   ]
  },
  {
   "cell_type": "markdown",
   "metadata": {},
   "source": [
    "Viendo el dataset observo que las imagenes empiezan con el nombre de la clase luego un '.' , el numero y el formato. Por ejemplo\n",
    "la primer imagen de gatos es cat.0.jpg. \n",
    "Por eso a continuacion creo una lista con los nombres de las primeras 1000 imagenes de gatos."
   ]
  },
  {
   "cell_type": "code",
   "execution_count": 10,
   "metadata": {},
   "outputs": [],
   "source": [
    "fnames= ['cat.{}.jpg'.format(i) for i in range(1000)]  "
   ]
  },
  {
   "cell_type": "markdown",
   "metadata": {},
   "source": [
    "#### Mover las imagenes de entrenamiento de cats de la carpeta original_dataset_dir1 a la carpeta train_cat_dir\n",
    "\n",
    "Recorro la lista de nombres de imagenes  fnames y en cada iteracion creo la variable src y le asigno la union de la ruta original y el nombre de la imagen actual.\n",
    "A la variable dst le asigno la union de la ruta train_cat_dir y el nombre de la imagen actual.\n",
    "Luego copio la imagen de src al directorio creado.\n"
   ]
  },
  {
   "cell_type": "code",
   "execution_count": 13,
   "metadata": {},
   "outputs": [],
   "source": [
    "for fname in fnames:\n",
    "    src=os.path.join(original_dataset_dir1,fname)\n",
    "    dst=os.path.join(train_cat_dir,fname)\n",
    "    shutil.copyfile(src,dst)"
   ]
  },
  {
   "cell_type": "markdown",
   "metadata": {},
   "source": [
    "#### Mover las imagenes de validacion de cats de la carpeta original_dataset_dir1 a la carpeta validation_cat_dir\n",
    "\n",
    "Recorro la lista de nombres de imagenes  fnames desde la posicion 1000 a 1499 y en cada iteracion creo la variable src y le asigno la union de la ruta original y el nombre de la imagen actual.\n",
    "A la variable dst le asigno la union de la ruta train_cat_dir y el nombre de la imagen actual.\n",
    "Luego copio la imagen de src al directorio creado.\n",
    "\n"
   ]
  },
  {
   "cell_type": "code",
   "execution_count": 14,
   "metadata": {},
   "outputs": [],
   "source": [
    "fnames= ['cat.{}.jpg'.format(i) for i in range(1000,1500)] \n",
    "for fname in fnames:\n",
    "    src=os.path.join(original_dataset_dir1,fname)\n",
    "    dst=os.path.join(validation_cat_dir,fname)\n",
    "    shutil.copyfile(src,dst)"
   ]
  },
  {
   "cell_type": "markdown",
   "metadata": {},
   "source": [
    "#### Mover las imagenes de test de cats de la carpeta original_dataset_dir2 a la carpeta test_cat_dir\n",
    "\n",
    "Recorro la lista de nombres de imagenes  fnames desde la posicion 0 a 500 y en cada iteracion creo la variable src y le asigno la union de la ruta original y el nombre de la imagen actual.\n",
    "A la variable dst le asigno la union de la ruta train_cat_dir y el nombre de la imagen actual.\n",
    "Luego copio la imagen de src al directorio creado.\n"
   ]
  },
  {
   "cell_type": "code",
   "execution_count": 17,
   "metadata": {},
   "outputs": [],
   "source": [
    "fnames= ['cat.{}.jpg'.format(i) for i in range(1500,2000)] \n",
    "for fname in fnames:\n",
    "    src=os.path.join(original_dataset_dir1,fname)\n",
    "    dst=os.path.join(test_cat_dir,fname)\n",
    "    shutil.copyfile(src,dst)"
   ]
  },
  {
   "cell_type": "markdown",
   "metadata": {},
   "source": [
    "Hacemos lo mismo con las imagenes de perros"
   ]
  },
  {
   "cell_type": "code",
   "execution_count": 19,
   "metadata": {},
   "outputs": [],
   "source": [
    "fnames= ['dog.{}.jpg'.format(i) for i in range(1000)] \n",
    "for fname in fnames:\n",
    "    src=os.path.join(original_dataset_dir1,fname)\n",
    "    dst=os.path.join(train_dog_dir,fname)\n",
    "    shutil.copyfile(src,dst)"
   ]
  },
  {
   "cell_type": "code",
   "execution_count": null,
   "metadata": {},
   "outputs": [],
   "source": [
    "fnames= ['dog.{}.jpg'.format(i) for i in range(1000,1500)] \n",
    "for fname in fnames:\n",
    "    src=os.path.join(original_dataset_dir1,fname)\n",
    "    dst=os.path.join(validation_dog_dir,fname)\n",
    "    shutil.copyfile(src,dst)"
   ]
  },
  {
   "cell_type": "code",
   "execution_count": 21,
   "metadata": {},
   "outputs": [],
   "source": [
    "fnames= ['dog.{}.jpg'.format(i) for i in range(1500,2000)] \n",
    "for fname in fnames:\n",
    "    src=os.path.join(original_dataset_dir1,fname)\n",
    "    dst=os.path.join(test_dog_dir,fname)\n",
    "    shutil.copyfile(src,dst)"
   ]
  },
  {
   "cell_type": "code",
   "execution_count": 22,
   "metadata": {},
   "outputs": [
    {
     "name": "stdout",
     "output_type": "stream",
     "text": [
      "total training cat images: 1000\n",
      "total training dog images: 1000\n",
      "total validation cat images: 500\n",
      "total validation dog images: 500\n",
      "total test cat images: 500\n",
      "total test dog images: 500\n"
     ]
    }
   ],
   "source": [
    "#comprobamos la cantidad de imagenes en cada directorio\n",
    "\n",
    "print('total training cat images:',len(os.listdir(train_cat_dir)))\n",
    "print('total training dog images:',len(os.listdir(train_dog_dir)))\n",
    "print('total validation cat images:',len(os.listdir(validation_cat_dir)))\n",
    "print('total validation dog images:',len(os.listdir(validation_dog_dir)))\n",
    "print('total test cat images:',len(os.listdir(test_cat_dir)))\n",
    "print('total test dog images:',len(os.listdir(test_dog_dir)))\n"
   ]
  },
  {
   "cell_type": "markdown",
   "metadata": {},
   "source": [
    "Tenemos 2000 imagenes de entrenamiento, 1000 de validacion y 1000 de prueba. Cada division contiene el mismo numero de muestras de cada clase: se trata de un problema de clasificacion binaria equilibrada, lo que significa que la exactitud de la clasificacion sera una medida de la clasificacion adecuada!!!!!"
   ]
  },
  {
   "cell_type": "code",
   "execution_count": null,
   "metadata": {},
   "outputs": [],
   "source": []
  },
  {
   "cell_type": "code",
   "execution_count": null,
   "metadata": {},
   "outputs": [],
   "source": []
  },
  {
   "cell_type": "code",
   "execution_count": null,
   "metadata": {},
   "outputs": [],
   "source": []
  }
 ],
 "metadata": {
  "interpreter": {
   "hash": "a5b1ca146a2b6c1dad98eb34c68ce0978784e2a044fb88d9a2019968fdd7143a"
  },
  "kernelspec": {
   "display_name": "Python 3.9.7 64-bit ('ambienteML': conda)",
   "language": "python",
   "name": "python3"
  },
  "language_info": {
   "codemirror_mode": {
    "name": "ipython",
    "version": 3
   },
   "file_extension": ".py",
   "mimetype": "text/x-python",
   "name": "python",
   "nbconvert_exporter": "python",
   "pygments_lexer": "ipython3",
   "version": "3.9.7"
  },
  "orig_nbformat": 4
 },
 "nbformat": 4,
 "nbformat_minor": 2
}
