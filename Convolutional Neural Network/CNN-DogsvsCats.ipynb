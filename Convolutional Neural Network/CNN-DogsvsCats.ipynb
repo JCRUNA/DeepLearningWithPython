{
 "cells": [
  {
   "cell_type": "markdown",
   "metadata": {},
   "source": [
    "## La relevancia del Deep Learning para pocos datos"
   ]
  },
  {
   "cell_type": "markdown",
   "metadata": {},
   "source": [
    "A veces escuchamos que el deep learning solo funciona cuando hay disponibles muchos datos. Esto es cierto en parte: una caracteristica fundamental del **deep learning** es que puede encontrar caracteristicas interesantes en los datos de entrenamiento por si mismo, sin que necesite ninguna ingenieria de caracteristicas manual, pero eso solo puede conseguirse cuando hay muchos datos de entrenamiento. Esto en en general es cierto cuando las muestras de entrada tienen muchas dimensiones, como las imagenes.\n",
    "\n",
    "Pero lo que constituye muchas muestras es relativo, relativo segun la profundidad de la red o el tamaño. Por ejemplo no es posible entrenar una convnet para resolver un problema complejo con solo unas decenas de muestras, pero algunos cientos pueden ser suficientes si el modelo esta regularizado y si la tarea es sencilla.\n",
    "\n",
    "Puesto que las convnets aprenden caracteristicas locales con invariancia traslacional, tiene una gran eficiencia de datos en problemas perceptuales. Entrenar una convnet desde 0 en un conjunto de imagenes muy pequeño seguira generando resultados razonables pese a la relativa falta de datos, sin necesidad de que se utilice una ingenieria de caracteristicas.\n",
    "\n",
    "Ademas los modelos de deep learning tienen por naturaleza una gran capacidad para cambiar de finalidad: podriamos tomar un modelo de clasificacion de imagenes entrenado con un conjunto de datos a gran escala y reutilizarlo en problemas diferentes con solo algunos cambios menores.\n",
    "Esto es lo que vamos a hacer en este cuaderno.\n",
    "Primero empezaremos con la descarga de los datos "
   ]
  },
  {
   "cell_type": "code",
   "execution_count": 1,
   "metadata": {},
   "outputs": [],
   "source": [
    "import keras\n",
    "import os, shutil"
   ]
  },
  {
   "cell_type": "markdown",
   "metadata": {},
   "source": [
    "### Descargar los datos"
   ]
  },
  {
   "cell_type": "markdown",
   "metadata": {},
   "source": [
    "El conjunto de datos Dogs vs. Cats no se incluye en keras. Kaggle lo puso a disposicion en 2013, cuando las convnets no eran populares.\n",
    "\n",
    "Puede descargarlo aqui: https://www.kaggle.com/c/dogs-vs-cats/data"
   ]
  },
  {
   "cell_type": "markdown",
   "metadata": {},
   "source": [
    "Las imagenes son en color , de resolucion media y formato JPEG.\n",
    "\n",
    "Como era de esperar la competicion de 2013 la ganaron participantes que usaron convnets. Obtuvieron una exactitud del 95%. \n",
    "La idea de este notebook va ser acercarnos a esa valor pero usando solo el 10% de los datos que estan disponibles.\n",
    "\n",
    "El conjunto de datos contiene 25.000 imagenes de perros y gatos (12.500 de cada clase)\n",
    "Luego de descargarlo y descomprimirlo vamos a crear un nuevo conjunto de datos con 3 subconjuntos: un conjunto de entrenamiento con 1000 muestras de cada clase, un conjunto de validacion con 500 muestras de cada clase y un conjunto de prueba con 500 muestras de cada clase."
   ]
  },
  {
   "cell_type": "markdown",
   "metadata": {},
   "source": [
    "#### 1.1 Copiar imagenes en directorios de entrenamiento, validacion y prueba"
   ]
  },
  {
   "cell_type": "code",
   "execution_count": 2,
   "metadata": {},
   "outputs": [
    {
     "name": "stdout",
     "output_type": "stream",
     "text": [
      "C:\\Users\\joaqu\n"
     ]
    }
   ],
   "source": [
    "cd"
   ]
  },
  {
   "cell_type": "code",
   "execution_count": 16,
   "metadata": {},
   "outputs": [],
   "source": [
    "# Ruta a directorio donde descomprimi el dataset original\n",
    "original_dataset_dir1='C:/Users/joaqu/Downloads/dogs-vs-cats/train'\n"
   ]
  },
  {
   "cell_type": "code",
   "execution_count": 6,
   "metadata": {},
   "outputs": [],
   "source": [
    "#directorio donde guardo el dataset mas chico\n",
    "base_dir='C:/Users/joaqu/Downloads/dogs-vs-cats-small'\n",
    "os.makedirs(base_dir) #creo directorio"
   ]
  },
  {
   "cell_type": "code",
   "execution_count": 7,
   "metadata": {},
   "outputs": [],
   "source": [
    "#Creo directorios con carpeta train , validation y test\n",
    "train_dir= os.path.join(base_dir,'train')\n",
    "os.mkdir(train_dir)\n",
    "validation_dir= os.path.join(base_dir,'validation')\n",
    "os.mkdir(validation_dir)\n",
    "test_dir= os.path.join(base_dir,'test')\n",
    "os.mkdir(test_dir)"
   ]
  },
  {
   "cell_type": "code",
   "execution_count": 8,
   "metadata": {},
   "outputs": [],
   "source": [
    "#creo carptetas dentro de cada directorio para luego guardar imagenes de gatos\n",
    "train_cat_dir=os.path.join(train_dir,'cats')\n",
    "os.makedirs(train_cat_dir)\n",
    "\n",
    "validation_cat_dir=os.path.join(validation_dir,'cats')\n",
    "os.makedirs(validation_cat_dir)\n",
    "\n",
    "test_cat_dir=os.path.join(test_dir,'cats')\n",
    "os.makedirs(test_cat_dir)\n",
    "\n",
    "\n"
   ]
  },
  {
   "cell_type": "code",
   "execution_count": 9,
   "metadata": {},
   "outputs": [],
   "source": [
    "#creo carptetas dentro de cada directorio para luego guardar imagenes de perros\n",
    "train_dog_dir=os.path.join(train_dir,'dogs')\n",
    "os.makedirs(train_dog_dir)\n",
    "\n",
    "validation_dog_dir=os.path.join(validation_dir,'dogs')\n",
    "os.makedirs(validation_dog_dir)\n",
    "\n",
    "test_dog_dir=os.path.join(test_dir,'dogs')\n",
    "os.makedirs(test_dog_dir)"
   ]
  },
  {
   "cell_type": "markdown",
   "metadata": {},
   "source": [
    "Viendo el dataset observo que las imagenes empiezan con el nombre de la clase luego un '.' , el numero y el formato. Por ejemplo\n",
    "la primer imagen de gatos es cat.0.jpg. \n",
    "Por eso a continuacion creo una lista con los nombres de las primeras 1000 imagenes de gatos."
   ]
  },
  {
   "cell_type": "code",
   "execution_count": 10,
   "metadata": {},
   "outputs": [],
   "source": [
    "fnames= ['cat.{}.jpg'.format(i) for i in range(1000)]  "
   ]
  },
  {
   "cell_type": "markdown",
   "metadata": {},
   "source": [
    "#### Mover las imagenes de entrenamiento de cats de la carpeta original_dataset_dir1 a la carpeta train_cat_dir\n",
    "\n",
    "Recorro la lista de nombres de imagenes  fnames y en cada iteracion creo la variable src y le asigno la union de la ruta original y el nombre de la imagen actual.\n",
    "A la variable dst le asigno la union de la ruta train_cat_dir y el nombre de la imagen actual.\n",
    "Luego copio la imagen de src al directorio creado.\n"
   ]
  },
  {
   "cell_type": "code",
   "execution_count": 13,
   "metadata": {},
   "outputs": [],
   "source": [
    "for fname in fnames:\n",
    "    src=os.path.join(original_dataset_dir1,fname)\n",
    "    dst=os.path.join(train_cat_dir,fname)\n",
    "    shutil.copyfile(src,dst)"
   ]
  },
  {
   "cell_type": "markdown",
   "metadata": {},
   "source": [
    "#### Mover las imagenes de validacion de cats de la carpeta original_dataset_dir1 a la carpeta validation_cat_dir\n",
    "\n",
    "Recorro la lista de nombres de imagenes  fnames desde la posicion 1000 a 1499 y en cada iteracion creo la variable src y le asigno la union de la ruta original y el nombre de la imagen actual.\n",
    "A la variable dst le asigno la union de la ruta train_cat_dir y el nombre de la imagen actual.\n",
    "Luego copio la imagen de src al directorio creado.\n",
    "\n"
   ]
  },
  {
   "cell_type": "code",
   "execution_count": 14,
   "metadata": {},
   "outputs": [],
   "source": [
    "fnames= ['cat.{}.jpg'.format(i) for i in range(1000,1500)] \n",
    "for fname in fnames:\n",
    "    src=os.path.join(original_dataset_dir1,fname)\n",
    "    dst=os.path.join(validation_cat_dir,fname)\n",
    "    shutil.copyfile(src,dst)"
   ]
  },
  {
   "cell_type": "markdown",
   "metadata": {},
   "source": [
    "#### Mover las imagenes de test de cats de la carpeta original_dataset_dir2 a la carpeta test_cat_dir\n",
    "\n",
    "Recorro la lista de nombres de imagenes  fnames desde la posicion 0 a 500 y en cada iteracion creo la variable src y le asigno la union de la ruta original y el nombre de la imagen actual.\n",
    "A la variable dst le asigno la union de la ruta train_cat_dir y el nombre de la imagen actual.\n",
    "Luego copio la imagen de src al directorio creado.\n"
   ]
  },
  {
   "cell_type": "code",
   "execution_count": 17,
   "metadata": {},
   "outputs": [],
   "source": [
    "fnames= ['cat.{}.jpg'.format(i) for i in range(1500,2000)] \n",
    "for fname in fnames:\n",
    "    src=os.path.join(original_dataset_dir1,fname)\n",
    "    dst=os.path.join(test_cat_dir,fname)\n",
    "    shutil.copyfile(src,dst)"
   ]
  },
  {
   "cell_type": "markdown",
   "metadata": {},
   "source": [
    "Hacemos lo mismo con las imagenes de perros"
   ]
  },
  {
   "cell_type": "code",
   "execution_count": 19,
   "metadata": {},
   "outputs": [],
   "source": [
    "fnames= ['dog.{}.jpg'.format(i) for i in range(1000)] \n",
    "for fname in fnames:\n",
    "    src=os.path.join(original_dataset_dir1,fname)\n",
    "    dst=os.path.join(train_dog_dir,fname)\n",
    "    shutil.copyfile(src,dst)"
   ]
  },
  {
   "cell_type": "code",
   "execution_count": null,
   "metadata": {},
   "outputs": [],
   "source": [
    "fnames= ['dog.{}.jpg'.format(i) for i in range(1000,1500)] \n",
    "for fname in fnames:\n",
    "    src=os.path.join(original_dataset_dir1,fname)\n",
    "    dst=os.path.join(validation_dog_dir,fname)\n",
    "    shutil.copyfile(src,dst)"
   ]
  },
  {
   "cell_type": "code",
   "execution_count": 21,
   "metadata": {},
   "outputs": [],
   "source": [
    "fnames= ['dog.{}.jpg'.format(i) for i in range(1500,2000)] \n",
    "for fname in fnames:\n",
    "    src=os.path.join(original_dataset_dir1,fname)\n",
    "    dst=os.path.join(test_dog_dir,fname)\n",
    "    shutil.copyfile(src,dst)"
   ]
  },
  {
   "cell_type": "code",
   "execution_count": 22,
   "metadata": {},
   "outputs": [
    {
     "name": "stdout",
     "output_type": "stream",
     "text": [
      "total training cat images: 1000\n",
      "total training dog images: 1000\n",
      "total validation cat images: 500\n",
      "total validation dog images: 500\n",
      "total test cat images: 500\n",
      "total test dog images: 500\n"
     ]
    }
   ],
   "source": [
    "#comprobamos la cantidad de imagenes en cada directorio\n",
    "\n",
    "print('total training cat images:',len(os.listdir(train_cat_dir)))\n",
    "print('total training dog images:',len(os.listdir(train_dog_dir)))\n",
    "print('total validation cat images:',len(os.listdir(validation_cat_dir)))\n",
    "print('total validation dog images:',len(os.listdir(validation_dog_dir)))\n",
    "print('total test cat images:',len(os.listdir(test_cat_dir)))\n",
    "print('total test dog images:',len(os.listdir(test_dog_dir)))\n"
   ]
  },
  {
   "cell_type": "markdown",
   "metadata": {},
   "source": [
    "Tenemos 2000 imagenes de entrenamiento, 1000 de validacion y 1000 de prueba. Cada division contiene el mismo numero de muestras de cada clase: se trata de un problema de clasificacion binaria equilibrada, lo que significa que la exactitud de la clasificacion sera una medida de la clasificacion adecuada!!!!!"
   ]
  },
  {
   "cell_type": "markdown",
   "metadata": {},
   "source": [
    "#### CREAR LA RED\n",
    "Empezamos con entra de tamano 150x150 (decision arbitraria) y acabamos con mapas de caracteristicas de tamano 7x7 junto antes de la capa flatten\n",
    "Puesto que nos estamos enfrentando a un problema de clasificacion binaria, vamos a acabar la red con una sola unidad (una capa Dense de tamano 1) y una activacion sigmoid. Estaa unidad codificara la probabilidad de que la red este mirando una clase o la otra.\n"
   ]
  },
  {
   "cell_type": "markdown",
   "metadata": {},
   "source": [
    "### Crear instancias en una convnet pequeña para clasificar perros y gatos"
   ]
  },
  {
   "cell_type": "code",
   "execution_count": 40,
   "metadata": {},
   "outputs": [],
   "source": [
    "import tensorflow as tf\n",
    "from tensorflow import keras\n",
    "from tensorflow.keras import layers\n",
    "from tensorflow.keras import models"
   ]
  },
  {
   "cell_type": "code",
   "execution_count": 35,
   "metadata": {},
   "outputs": [
    {
     "data": {
      "text/plain": [
       "'2.6.0'"
      ]
     },
     "execution_count": 35,
     "metadata": {},
     "output_type": "execute_result"
    }
   ],
   "source": [
    "keras.__version__"
   ]
  },
  {
   "cell_type": "code",
   "execution_count": 48,
   "metadata": {},
   "outputs": [],
   "source": [
    "model=keras.Sequential()\n",
    "model.add(layers.Conv2D(32,(3,3),activation='relu',input_shape=(150,150,3)))\n",
    "model.add(layers.MaxPool2D(2,2))\n",
    "model.add(layers.Conv2D(64,(3,3),activation='relu'))\n",
    "model.add(layers.MaxPool2D(2,2))\n",
    "model.add(layers.Conv2D(128,(3,3),activation='relu'))\n",
    "model.add(layers.MaxPool2D(2,2))\n",
    "model.add(layers.Flatten())\n",
    "model.add(layers.Dense(512,activation='relu'))\n",
    "model.add(layers.Dense(1,activation='sigmoid'))"
   ]
  },
  {
   "cell_type": "markdown",
   "metadata": {},
   "source": [
    "Veamos un resumen del modelo"
   ]
  },
  {
   "cell_type": "code",
   "execution_count": 50,
   "metadata": {},
   "outputs": [
    {
     "name": "stdout",
     "output_type": "stream",
     "text": [
      "Model: \"sequential_9\"\n",
      "_________________________________________________________________\n",
      "Layer (type)                 Output Shape              Param #   \n",
      "=================================================================\n",
      "conv2d_24 (Conv2D)           (None, 148, 148, 32)      896       \n",
      "_________________________________________________________________\n",
      "max_pooling2d_24 (MaxPooling (None, 74, 74, 32)        0         \n",
      "_________________________________________________________________\n",
      "conv2d_25 (Conv2D)           (None, 72, 72, 64)        18496     \n",
      "_________________________________________________________________\n",
      "max_pooling2d_25 (MaxPooling (None, 36, 36, 64)        0         \n",
      "_________________________________________________________________\n",
      "conv2d_26 (Conv2D)           (None, 34, 34, 128)       73856     \n",
      "_________________________________________________________________\n",
      "max_pooling2d_26 (MaxPooling (None, 17, 17, 128)       0         \n",
      "_________________________________________________________________\n",
      "flatten (Flatten)            (None, 36992)             0         \n",
      "_________________________________________________________________\n",
      "dense (Dense)                (None, 512)               18940416  \n",
      "_________________________________________________________________\n",
      "dense_1 (Dense)              (None, 1)                 513       \n",
      "=================================================================\n",
      "Total params: 19,034,177\n",
      "Trainable params: 19,034,177\n",
      "Non-trainable params: 0\n",
      "_________________________________________________________________\n"
     ]
    }
   ],
   "source": [
    "model.summary()"
   ]
  },
  {
   "cell_type": "markdown",
   "metadata": {},
   "source": [
    "Como optimizador usamos RMSPROP y como la ultima capa de la red tiene una sola unidad usamos como funcion de perdida la entropia cruzada binaria."
   ]
  },
  {
   "cell_type": "code",
   "execution_count": 51,
   "metadata": {},
   "outputs": [],
   "source": [
    "from tensorflow.keras import optimizers\n",
    "\n",
    "model.compile(loss='binary_crossentropy',optimizer=optimizers.RMSprop(learning_rate=1e-4),metrics=['acc'])"
   ]
  },
  {
   "cell_type": "markdown",
   "metadata": {},
   "source": [
    "#### PROCESAMIENTO DE LOS DATOS\n",
    "\n",
    "Los datos deben formatearse para convertirlos en tensores de punto flotante antes de introducirlos al modelo.\n",
    "En este momento, los datos se encuentran en una unidad como archivos JPEG, asi deberiamos aplicar los siguientes pasos:\n",
    "- Leer los archivos de las imagenes.\n",
    "- Descodificar el contenido JPEG a valores de pixeles RGB.\n",
    "- Convertir estas en tensores de punto flotante.\n",
    "- Cambiar la escala de los valores de pixeles (0 a 255) al intervalo [1,0]\n",
    "\n",
    "Por suerte Keras cuanto con un modulo con asistentes para el procesamiento de imagenes, ubicados en *keras.preprocessing.image*\n",
    "Este modulo contiene la clase *ImageDataGenerator* que nos permite configurar generadores de python que pueden convertir de forma automatica archivos de imagenes de un disco en lotes de tensores preprocesados.\n",
    "\n",
    "A continuacion creo 2 instancias de la clase ImageDataGenerator pasandole como argumento que redimensione la imagen al intervalo [0,1]\n"
   ]
  },
  {
   "cell_type": "code",
   "execution_count": 54,
   "metadata": {},
   "outputs": [],
   "source": [
    "from keras.preprocessing.image import ImageDataGenerator\n",
    "\n",
    "train_datagen=ImageDataGenerator(rescale=1./255)\n",
    "test_datagen=ImageDataGenerator(rescale=1./255)"
   ]
  },
  {
   "cell_type": "markdown",
   "metadata": {},
   "source": [
    "Creo 2 generadores y les paso el directorio respectivo, el tamano de la imagen, el tamaño del lote y el modo binary ya que hay solo 2 clases."
   ]
  },
  {
   "cell_type": "code",
   "execution_count": 55,
   "metadata": {},
   "outputs": [
    {
     "name": "stdout",
     "output_type": "stream",
     "text": [
      "Found 2000 images belonging to 2 classes.\n",
      "Found 1000 images belonging to 2 classes.\n"
     ]
    }
   ],
   "source": [
    "train_generator=train_datagen.flow_from_directory(train_dir,target_size=(150,150),batch_size=20,class_mode='binary')\n",
    "\n",
    "validation_generator=test_datagen.flow_from_directory(validation_dir,target_size=(150,150),batch_size=20,class_mode='binary')"
   ]
  },
  {
   "cell_type": "markdown",
   "metadata": {},
   "source": [
    "Veamos la salida de uno de estos generadores: produce lotes de imagenes RGB de 150x150 con la forma (20,150,150,3) y etiquetas binarias con la forma (20,)\n",
    "Esto quiere decir que el metodo flow_from_directory retorna una tupla (x,y) donde x es la forma del lote de imagenes e y es la forma de las etiquetas\n",
    "Hay 20 muestras en cada lote. Tenga en cuenta que el generador produce estos lotes de manera indefinida. Por eso necesitamos romper el bucle de iteracion en algun punto"
   ]
  },
  {
   "cell_type": "code",
   "execution_count": 56,
   "metadata": {},
   "outputs": [
    {
     "name": "stdout",
     "output_type": "stream",
     "text": [
      "data batch shape: (20, 150, 150, 3)\n",
      "label batch shape: (20,)\n"
     ]
    }
   ],
   "source": [
    "for data_batch, labels_batch in train_generator:\n",
    "    print('data batch shape:', data_batch.shape)\n",
    "    print('label batch shape:', labels_batch.shape)\n",
    "    break"
   ]
  },
  {
   "cell_type": "markdown",
   "metadata": {},
   "source": [
    "Vamos a entrenar el modelo usando el generator . Para ello usamos el metodo *fit_generator*, el cual espera como primer argumento un generador de Python que producira lotes de entradas y objetivos de manera indefinida. Puesto que los datos se estan generando infinitamente, el modelo de Keras necesita saber cuantas muestras sacar del generador antes de declarar que la repeticion (epoch) ha finalizado.\n",
    "Esta es la mision del argumento *steps_per_epoch*: despues de haber sacado lotes steps_per_epoch del generador, el proceso de entrenamiento pasara a la siguiente repeticion. En este caso los lotes son de 20 muestras, asi que se necesitaran 100 lotes hasta que veamos nuestro objetivo de 2000 muestras.\n",
    "\n",
    "Cuando utilizamos fit_generator podemos pasar un argumento *validation_data*, igual que con el metodo fit. Es importante tener en cuenta que se permite que este argumento sea un generador de datos, pero tambien podria ser una tupla de matrices Numpy. Si pasamos un generador como validation_data entonces se espera que este generador produzca lotes de datos de validacion indefinidamente, por eso deberiamos especificar tambien el argumento *validation_steps*, que indica al proceso cuantos lotes sacar del generador de validacion para la evaluacion."
   ]
  },
  {
   "cell_type": "code",
   "execution_count": 58,
   "metadata": {},
   "outputs": [
    {
     "name": "stderr",
     "output_type": "stream",
     "text": [
      "C:\\Users\\joaqu\\anaconda3\\envs\\ambienteML\\lib\\site-packages\\keras\\engine\\training.py:1972: UserWarning: `Model.fit_generator` is deprecated and will be removed in a future version. Please use `Model.fit`, which supports generators.\n",
      "  warnings.warn('`Model.fit_generator` is deprecated and '\n"
     ]
    },
    {
     "name": "stdout",
     "output_type": "stream",
     "text": [
      "Epoch 1/30\n",
      "100/100 [==============================] - 81s 800ms/step - loss: 0.7031 - acc: 0.5470 - val_loss: 0.6846 - val_acc: 0.5420\n",
      "Epoch 2/30\n",
      "100/100 [==============================] - 69s 685ms/step - loss: 0.6232 - acc: 0.6560 - val_loss: 0.6164 - val_acc: 0.6520\n",
      "Epoch 3/30\n",
      "100/100 [==============================] - 68s 683ms/step - loss: 0.5568 - acc: 0.7235 - val_loss: 0.5969 - val_acc: 0.6950\n",
      "Epoch 4/30\n",
      "100/100 [==============================] - 59s 594ms/step - loss: 0.5109 - acc: 0.7555 - val_loss: 0.5925 - val_acc: 0.6970\n",
      "Epoch 5/30\n",
      "100/100 [==============================] - 58s 583ms/step - loss: 0.4615 - acc: 0.7915 - val_loss: 0.6396 - val_acc: 0.6750\n",
      "Epoch 6/30\n",
      "100/100 [==============================] - 62s 618ms/step - loss: 0.4178 - acc: 0.8120 - val_loss: 0.5883 - val_acc: 0.7070\n",
      "Epoch 7/30\n",
      "100/100 [==============================] - 61s 607ms/step - loss: 0.3807 - acc: 0.8360 - val_loss: 0.5872 - val_acc: 0.7020\n",
      "Epoch 8/30\n",
      "100/100 [==============================] - 58s 577ms/step - loss: 0.3401 - acc: 0.8560 - val_loss: 0.6006 - val_acc: 0.7050\n",
      "Epoch 9/30\n",
      "100/100 [==============================] - 67s 666ms/step - loss: 0.3018 - acc: 0.8775 - val_loss: 0.6209 - val_acc: 0.6820\n",
      "Epoch 10/30\n",
      "100/100 [==============================] - 58s 575ms/step - loss: 0.2700 - acc: 0.8870 - val_loss: 0.7355 - val_acc: 0.6820\n",
      "Epoch 11/30\n",
      "100/100 [==============================] - 56s 563ms/step - loss: 0.2368 - acc: 0.9125 - val_loss: 0.6681 - val_acc: 0.7020\n",
      "Epoch 12/30\n",
      "100/100 [==============================] - 56s 561ms/step - loss: 0.2069 - acc: 0.9240 - val_loss: 0.6569 - val_acc: 0.7010\n",
      "Epoch 13/30\n",
      "100/100 [==============================] - 57s 569ms/step - loss: 0.1760 - acc: 0.9405 - val_loss: 0.6811 - val_acc: 0.7030\n",
      "Epoch 14/30\n",
      "100/100 [==============================] - 58s 577ms/step - loss: 0.1580 - acc: 0.9455 - val_loss: 0.6890 - val_acc: 0.7170\n",
      "Epoch 15/30\n",
      "100/100 [==============================] - 57s 568ms/step - loss: 0.1225 - acc: 0.9655 - val_loss: 1.2104 - val_acc: 0.6580\n",
      "Epoch 16/30\n",
      "100/100 [==============================] - 58s 585ms/step - loss: 0.1083 - acc: 0.9725 - val_loss: 0.7946 - val_acc: 0.7100\n",
      "Epoch 17/30\n",
      "100/100 [==============================] - 57s 566ms/step - loss: 0.0923 - acc: 0.9745 - val_loss: 0.8278 - val_acc: 0.6960\n",
      "Epoch 18/30\n",
      "100/100 [==============================] - 58s 581ms/step - loss: 0.0725 - acc: 0.9805 - val_loss: 0.9159 - val_acc: 0.6980\n",
      "Epoch 19/30\n",
      "100/100 [==============================] - 59s 589ms/step - loss: 0.0594 - acc: 0.9870 - val_loss: 1.0035 - val_acc: 0.7170\n",
      "Epoch 20/30\n",
      "100/100 [==============================] - 62s 621ms/step - loss: 0.0504 - acc: 0.9855 - val_loss: 0.9234 - val_acc: 0.7070\n",
      "Epoch 21/30\n",
      "100/100 [==============================] - 58s 580ms/step - loss: 0.0372 - acc: 0.9940 - val_loss: 1.0527 - val_acc: 0.6910\n",
      "Epoch 22/30\n",
      "100/100 [==============================] - 56s 557ms/step - loss: 0.0348 - acc: 0.9915 - val_loss: 1.0773 - val_acc: 0.7050\n",
      "Epoch 23/30\n",
      "100/100 [==============================] - 60s 599ms/step - loss: 0.0354 - acc: 0.9905 - val_loss: 1.0408 - val_acc: 0.7100\n",
      "Epoch 24/30\n",
      "100/100 [==============================] - 58s 585ms/step - loss: 0.0322 - acc: 0.9925 - val_loss: 1.0790 - val_acc: 0.7110\n",
      "Epoch 25/30\n",
      "100/100 [==============================] - 59s 593ms/step - loss: 0.0178 - acc: 0.9955 - val_loss: 1.2169 - val_acc: 0.6960\n",
      "Epoch 26/30\n",
      "100/100 [==============================] - 57s 572ms/step - loss: 0.0216 - acc: 0.9940 - val_loss: 1.3431 - val_acc: 0.7160\n",
      "Epoch 27/30\n",
      "100/100 [==============================] - 58s 577ms/step - loss: 0.0213 - acc: 0.9935 - val_loss: 1.2333 - val_acc: 0.7100\n",
      "Epoch 28/30\n",
      "100/100 [==============================] - 59s 594ms/step - loss: 0.0095 - acc: 0.9980 - val_loss: 1.3350 - val_acc: 0.7040\n",
      "Epoch 29/30\n",
      "100/100 [==============================] - 58s 584ms/step - loss: 0.0130 - acc: 0.9950 - val_loss: 1.6682 - val_acc: 0.7030\n",
      "Epoch 30/30\n",
      "100/100 [==============================] - 59s 588ms/step - loss: 0.0142 - acc: 0.9960 - val_loss: 1.5693 - val_acc: 0.7160\n"
     ]
    }
   ],
   "source": [
    "history=model.fit_generator(train_generator,steps_per_epoch=100,epochs=30,validation_data=validation_generator,validation_steps=50)"
   ]
  },
  {
   "cell_type": "markdown",
   "metadata": {},
   "source": [
    "Puede guardar un modelo creado con la API funcional en un solo archivo. Posteriormente, puede volver a crear el mismo modelo a partir de este archivo, incluso si ya no tiene acceso al codigo que creo el modelo.\n",
    "\n",
    "Este archivo incluye:\n",
    "\n",
    "- Los modelos de arquitectura\n",
    "- Los valores de peso del modelo (que se aprendieron durante el entrenamiento)\n",
    "- La configuración de entrenamiento del modelo (lo que pasó a 'compilar'), si corresponde\n",
    "- El optimizador y su estado, si corresponde (esto le permite reiniciar el entrenamiento donde lo dejó)\n",
    " "
   ]
  },
  {
   "cell_type": "code",
   "execution_count": 60,
   "metadata": {},
   "outputs": [],
   "source": [
    "# Guardar el Modelo\n",
    "model.save('InitialModel.h5')"
   ]
  },
  {
   "cell_type": "markdown",
   "metadata": {},
   "source": [
    "Dibujemos la perdida (loss) y la exactitud (accuracy) del modelo sobre los datos de entrenamiento y validacion durante el entrenamiento."
   ]
  },
  {
   "cell_type": "code",
   "execution_count": 63,
   "metadata": {},
   "outputs": [
    {
     "data": {
      "image/png": "[encoded data removed]",
      "text/plain": [
       "<Figure size 432x288 with 1 Axes>"
      ]
     },
     "metadata": {
      "needs_background": "light"
     },
     "output_type": "display_data"
    },
    {
     "data": {
      "image/png": "[encoded data removed]",
      "text/plain": [
       "<Figure size 432x288 with 1 Axes>"
      ]
     },
     "metadata": {
      "needs_background": "light"
     },
     "output_type": "display_data"
    },
    {
     "data": {
      "text/plain": [
       "<Figure size 432x288 with 0 Axes>"
      ]
     },
     "metadata": {},
     "output_type": "display_data"
    }
   ],
   "source": [
    "import matplotlib.pyplot as plt\n",
    "\n",
    "acc=history.history['acc']\n",
    "val_acc=history.history['val_acc']\n",
    "loss=history.history['loss']\n",
    "val_loss=history.history['val_loss']\n",
    "\n",
    "epochs=range(1,len(acc)+1)\n",
    "\n",
    "plt.plot(epochs,acc,'bo',label='Training acc')\n",
    "plt.plot(epochs,val_acc,'b',label='Validation acc')\n",
    "plt.title('Training and Validation accuracy')\n",
    "plt.legend()\n",
    "plt.figure()\n",
    "\n",
    "plt.plot(epochs,loss,'bo',label='Training Loss')\n",
    "plt.plot(epochs,val_loss,'b',label='Validation Loss')\n",
    "plt.title('Training and Validation Loss')\n",
    "plt.legend()\n",
    "plt.figure()\n",
    "\n",
    "plt.show()"
   ]
  },
  {
   "cell_type": "code",
   "execution_count": null,
   "metadata": {},
   "outputs": [],
   "source": []
  },
  {
   "cell_type": "code",
   "execution_count": null,
   "metadata": {},
   "outputs": [],
   "source": []
  }
 ],
 "metadata": {
  "interpreter": {
   "hash": "a5b1ca146a2b6c1dad98eb34c68ce0978784e2a044fb88d9a2019968fdd7143a"
  },
  "kernelspec": {
   "display_name": "Python 3.9.7 64-bit ('ambienteML': conda)",
   "language": "python",
   "name": "python3"
  },
  "language_info": {
   "codemirror_mode": {
    "name": "ipython",
    "version": 3
   },
   "file_extension": ".py",
   "mimetype": "text/x-python",
   "name": "python",
   "nbconvert_exporter": "python",
   "pygments_lexer": "ipython3",
   "version": "3.9.7"
  },
  "orig_nbformat": 4
 },
 "nbformat": 4,
 "nbformat_minor": 2
}
