{
 "cells": [
  {
   "cell_type": "markdown",
   "id": "b95599a3",
   "metadata": {},
   "source": [
    "### EL CONJUNTO DE DATOS DE LOS PRECIOS DE LAS CASAS DE BOSTON\n",
    "\n",
    "Vamos a intentar predecir el precio medio de las casas en un barrio de Boston determinado\n",
    "a mediados del 70 considerando puntos de datos sobre el barrio en aquella epoca, como\n",
    "indice de criminalidad, el impuesto sobre la propiedad local, etc.\n",
    "\n",
    "El conjunto de datos que vamos a utilizar tiene una diferencia interesante respecto a los 2 anteriores.\n",
    "Tiene relativamente pocos puntos de datos solo 506 divididos entre 404 muestras de entrenamiento y\n",
    "102 muestras de prueba.\n",
    "Cada caracteristica en los datos de entrada(por ejemplo el indice de criminalidad) tiene una escala\n",
    "diferente. "
   ]
  },
  {
   "cell_type": "code",
   "execution_count": 2,
   "id": "6e117a74",
   "metadata": {},
   "outputs": [
    {
     "name": "stdout",
     "output_type": "stream",
     "text": [
      "Downloading data from https://storage.googleapis.com/tensorflow/tf-keras-datasets/boston_housing.npz\n",
      "57344/57026 [==============================] - 0s 0us/step\n",
      "65536/57026 [==================================] - 0s 0us/step\n"
     ]
    }
   ],
   "source": [
    "#Cargar el conjunto de datos\n",
    "\n",
    "from keras.datasets import boston_housing\n",
    "(train_data,train_labels),(test_data,test_labels)=boston_housing.load_data()"
   ]
  },
  {
   "cell_type": "code",
   "execution_count": 4,
   "id": "fd6168b3",
   "metadata": {},
   "outputs": [
    {
     "data": {
      "text/plain": [
       "(404, 13)"
      ]
     },
     "execution_count": 4,
     "metadata": {},
     "output_type": "execute_result"
    }
   ],
   "source": [
    "train_data.shape"
   ]
  },
  {
   "cell_type": "code",
   "execution_count": 6,
   "id": "fa581151",
   "metadata": {},
   "outputs": [
    {
     "data": {
      "text/plain": [
       "(102, 13)"
      ]
     },
     "execution_count": 6,
     "metadata": {},
     "output_type": "execute_result"
    }
   ],
   "source": [
    "test_data.shape"
   ]
  },
  {
   "cell_type": "markdown",
   "id": "7d95b832",
   "metadata": {},
   "source": [
    "Como vemos tenemos 404 muestras de entrenamiento y 102 muestras de prueba, cada una\n",
    "con 13 caracteristicas numericas.\n",
    "\n",
    "**Los objetivos son los valores medios de las casas ocupadas por los propietarios, en miles de dolares**"
   ]
  },
  {
   "cell_type": "code",
   "execution_count": 8,
   "id": "bf3411f4",
   "metadata": {},
   "outputs": [
    {
     "data": {
      "text/plain": [
       "array([15.2, 42.3, 50. , 21.1, 17.7, 18.5, 11.3, 15.6, 15.6, 14.4, 12.1,\n",
       "       17.9, 23.1, 19.9, 15.7,  8.8, 50. , 22.5, 24.1, 27.5, 10.9, 30.8,\n",
       "       32.9, 24. , 18.5, 13.3, 22.9, 34.7, 16.6, 17.5, 22.3, 16.1, 14.9,\n",
       "       23.1, 34.9, 25. , 13.9, 13.1, 20.4, 20. , 15.2, 24.7, 22.2, 16.7,\n",
       "       12.7, 15.6, 18.4, 21. , 30.1, 15.1, 18.7,  9.6, 31.5, 24.8, 19.1,\n",
       "       22. , 14.5, 11. , 32. , 29.4, 20.3, 24.4, 14.6, 19.5, 14.1, 14.3,\n",
       "       15.6, 10.5,  6.3, 19.3, 19.3, 13.4, 36.4, 17.8, 13.5, 16.5,  8.3,\n",
       "       14.3, 16. , 13.4, 28.6, 43.5, 20.2, 22. , 23. , 20.7, 12.5, 48.5,\n",
       "       14.6, 13.4, 23.7, 50. , 21.7, 39.8, 38.7, 22.2, 34.9, 22.5, 31.1,\n",
       "       28.7, 46. , 41.7, 21. , 26.6, 15. , 24.4, 13.3, 21.2, 11.7, 21.7,\n",
       "       19.4, 50. , 22.8, 19.7, 24.7, 36.2, 14.2, 18.9, 18.3, 20.6, 24.6,\n",
       "       18.2,  8.7, 44. , 10.4, 13.2, 21.2, 37. , 30.7, 22.9, 20. , 19.3,\n",
       "       31.7, 32. , 23.1, 18.8, 10.9, 50. , 19.6,  5. , 14.4, 19.8, 13.8,\n",
       "       19.6, 23.9, 24.5, 25. , 19.9, 17.2, 24.6, 13.5, 26.6, 21.4, 11.9,\n",
       "       22.6, 19.6,  8.5, 23.7, 23.1, 22.4, 20.5, 23.6, 18.4, 35.2, 23.1,\n",
       "       27.9, 20.6, 23.7, 28. , 13.6, 27.1, 23.6, 20.6, 18.2, 21.7, 17.1,\n",
       "        8.4, 25.3, 13.8, 22.2, 18.4, 20.7, 31.6, 30.5, 20.3,  8.8, 19.2,\n",
       "       19.4, 23.1, 23. , 14.8, 48.8, 22.6, 33.4, 21.1, 13.6, 32.2, 13.1,\n",
       "       23.4, 18.9, 23.9, 11.8, 23.3, 22.8, 19.6, 16.7, 13.4, 22.2, 20.4,\n",
       "       21.8, 26.4, 14.9, 24.1, 23.8, 12.3, 29.1, 21. , 19.5, 23.3, 23.8,\n",
       "       17.8, 11.5, 21.7, 19.9, 25. , 33.4, 28.5, 21.4, 24.3, 27.5, 33.1,\n",
       "       16.2, 23.3, 48.3, 22.9, 22.8, 13.1, 12.7, 22.6, 15. , 15.3, 10.5,\n",
       "       24. , 18.5, 21.7, 19.5, 33.2, 23.2,  5. , 19.1, 12.7, 22.3, 10.2,\n",
       "       13.9, 16.3, 17. , 20.1, 29.9, 17.2, 37.3, 45.4, 17.8, 23.2, 29. ,\n",
       "       22. , 18. , 17.4, 34.6, 20.1, 25. , 15.6, 24.8, 28.2, 21.2, 21.4,\n",
       "       23.8, 31. , 26.2, 17.4, 37.9, 17.5, 20. ,  8.3, 23.9,  8.4, 13.8,\n",
       "        7.2, 11.7, 17.1, 21.6, 50. , 16.1, 20.4, 20.6, 21.4, 20.6, 36.5,\n",
       "        8.5, 24.8, 10.8, 21.9, 17.3, 18.9, 36.2, 14.9, 18.2, 33.3, 21.8,\n",
       "       19.7, 31.6, 24.8, 19.4, 22.8,  7.5, 44.8, 16.8, 18.7, 50. , 50. ,\n",
       "       19.5, 20.1, 50. , 17.2, 20.8, 19.3, 41.3, 20.4, 20.5, 13.8, 16.5,\n",
       "       23.9, 20.6, 31.5, 23.3, 16.8, 14. , 33.8, 36.1, 12.8, 18.3, 18.7,\n",
       "       19.1, 29. , 30.1, 50. , 50. , 22. , 11.9, 37.6, 50. , 22.7, 20.8,\n",
       "       23.5, 27.9, 50. , 19.3, 23.9, 22.6, 15.2, 21.7, 19.2, 43.8, 20.3,\n",
       "       33.2, 19.9, 22.5, 32.7, 22. , 17.1, 19. , 15. , 16.1, 25.1, 23.7,\n",
       "       28.7, 37.2, 22.6, 16.4, 25. , 29.8, 22.1, 17.4, 18.1, 30.3, 17.5,\n",
       "       24.7, 12.6, 26.5, 28.7, 13.3, 10.4, 24.4, 23. , 20. , 17.8,  7. ,\n",
       "       11.8, 24.4, 13.8, 19.4, 25.2, 19.4, 19.4, 29.1])"
      ]
     },
     "execution_count": 8,
     "metadata": {},
     "output_type": "execute_result"
    }
   ],
   "source": [
    "train_labels"
   ]
  },
  {
   "cell_type": "code",
   "execution_count": 10,
   "id": "ce269246",
   "metadata": {},
   "outputs": [
    {
     "name": "stdout",
     "output_type": "stream",
     "text": [
      "50.0\n",
      "5.0\n"
     ]
    }
   ],
   "source": [
    "import numpy as np\n",
    "max,min=np.max(train_labels),np.min(train_labels)\n",
    "print(max)\n",
    "print(min)"
   ]
  },
  {
   "cell_type": "markdown",
   "id": "5112b1ac",
   "metadata": {},
   "source": [
    "Los precios estan entre 5 mil y 50 mil dolares."
   ]
  },
  {
   "cell_type": "markdown",
   "id": "b4410bc8",
   "metadata": {},
   "source": [
    "#### PREPARAR LOS DATOS\n",
    "\n",
    "Causaria muchos problemas introducir en una red neuronal valores que tomasen rangos\n",
    "muy diferentes. Puede que la red fuese capaz de adaptar de forma automatica unos datos tan\n",
    "heterogeneos, pero el aprendizaje resultaria mucho mas dificil. \n",
    "\n",
    "Una buena practica muy extendida para tratar este tipo de datos es la normalizacion en relacion a las caracteristicas:\n",
    "    para cada caracteristica en los datos de entrada(una columna en la matriz de los datos de entrada),\n",
    "    restamos la media de la caracteristica y dividimos entre la desviacion estandar de manera que la\n",
    "    caracteristica quede centrada en 0 con desviacion estandar de 1."
   ]
  },
  {
   "cell_type": "code",
   "execution_count": 14,
   "id": "35175485",
   "metadata": {},
   "outputs": [],
   "source": [
    "#Normalizar los datos\n",
    "\n",
    "mean=train_data.mean(axis=0) #pongo eje 0 para que haga el calculo por columna\n",
    "train_data-=mean\n",
    "\n",
    "std=train_data.std(axis=0)\n",
    "train_data/=std\n",
    "#observe que las cantidades utilizadas para normalizar los datos de prueba se computan utilizando los datos de entrenamiento.\n",
    "#Nunca deberiamos utilizar en nuestro flujo de trabajo una cantidad computada en los datos de prueba, ni siquiera\n",
    "#para algo tan simple como la normalizacion de datos.\n",
    "test_data-=mean\n",
    "test_data/=std"
   ]
  },
  {
   "cell_type": "markdown",
   "id": "7f589eae",
   "metadata": {},
   "source": [
    "#### CREAR LA RED\n",
    "\n",
    "Puesto que hay pocas instancias disponibles, vamos a utilizar una red muy chica con 2 capas ocultas,\n",
    "cada una con 64 unidades. En general, cuantos menos datos de entrenamiento tengamos, peor sera \n",
    "el sobreajuste y utilizar una red pequena es una forma de reducir el sobreajuste"
   ]
  },
  {
   "cell_type": "code",
   "execution_count": 23,
   "id": "896685f5",
   "metadata": {},
   "outputs": [],
   "source": [
    "#Definicion del modelo\n",
    "\n",
    "from keras import models\n",
    "from keras import layers\n",
    "\n",
    "#como hay que utilizar instancias del mismo modelo varias veces es mejor crear una funcion\n",
    "def build_model():\n",
    "    model=models.Sequential()\n",
    "    model.add(layers.Dense(64,activation='relu',input_shape=(train_data.shape[1],)))\n",
    "    model.add(layers.Dense(1))\n",
    "    model.compile(optimizer='rmsprop',loss='mse',metrics=['mae'])\n",
    "    return model"
   ]
  },
  {
   "cell_type": "markdown",
   "id": "71ad0cc5",
   "metadata": {},
   "source": [
    "La red acaba con una sola unidad y sin activacion(sera una capa lineal). Esta es una configuracion\n",
    "tipica para la regresion escalar. Aplicar una funcion de activacion limitaria el rango de valores que \n",
    "puede tomar la salida. Aqui puesto que la ultima capa es lineal, la red es libre de aprender a predecir\n",
    "valores en cualquier rango.\n",
    "\n",
    "Observe que compilamos la red con la funcion de perdida mse, que es el cuadrado de la diferencia entre\n",
    "las predicciones y los objetivos. Esta funcion de perdida se utiliza mucho para problemas de regresion.\n",
    "\n",
    "Tambien vamos a monitorizar una nueva metrica durante el entrenamiento: el error absoluto medio(mae)\n",
    "\n",
    "Por ej un mae de 0.5 significaria que nuestras predicciones se desvian 500 dolares de media.\n"
   ]
  },
  {
   "cell_type": "markdown",
   "id": "7d80d28c",
   "metadata": {},
   "source": [
    "#### VALIDAR NUESTRO ENFOQUE USANDO VALIDACION CRUZADA\n",
    "\n",
    "Para evaluar nuestra red mientras seguimos ajustando sus hiperparametros(como el epochs),\n",
    "podriamos dividir los datos en conjunto de entrenamiento y validacion, como hechos hecho en\n",
    "los ejemplos anteriores.\n",
    "\n",
    "Pero como tenemos tan pocos puntos de datos el conjunto de validacion acabaria siendo muy pequeno(por ej 100 ejemplos).\n",
    "En consecuencia las puntuaciones de validacion podrian cambiar mucho dependiendo de que puntos de datos decidamos utilizar \n",
    "para la validacion y cuales elijamos para el entrenamiento: las puntuaciones de validacion podrian tener una varianza\n",
    "alta con respecto a la division de validacion. Eso impediria que evaluasemos el modelo de manera fiable."
   ]
  },
  {
   "cell_type": "markdown",
   "id": "ca24b15b",
   "metadata": {},
   "source": [
    "Los mas adecuado en estas situaciones es utilizar validacion cruzada de K iteraciones. Consiste en dividir\n",
    "los datos disponibles en K particiones utilizando instancias de K modelos identicos y entrenando cada uno\n",
    "en K-1 particiones mientras se evalua la particion restante. \n",
    "\n",
    "La puntuacion de validacion para el modelo utilizado sera entonces la media de las puntuaciones de las K\n",
    "validaciones obtenidas.\n"
   ]
  },
  {
   "cell_type": "code",
   "execution_count": 24,
   "id": "2b840484",
   "metadata": {},
   "outputs": [
    {
     "name": "stdout",
     "output_type": "stream",
     "text": [
      "processing fold # 0\n",
      "processing fold # 1\n",
      "processing fold # 2\n",
      "processing fold # 3\n"
     ]
    }
   ],
   "source": [
    "#AQUI VA EL CODIGO\n",
    "\n",
    "import numpy as np\n",
    "\n",
    "k=4\n",
    "\n",
    "num_val_samples=len(train_data)//k\n",
    "num_epochs=100\n",
    "all_scores=[]\n",
    "\n",
    "for i in range(k):\n",
    "    print('processing fold #',i)\n",
    "    val_data=train_data[i*num_val_samples:(i+1)*num_val_samples]\n",
    "    val_data_labels=train_labels[i*num_val_samples:(i+1)*num_val_samples]\n",
    "    \n",
    "    partial_train_data=np.concatenate([train_data[:i*num_val_samples],\n",
    "                                      train_data[(i+1)*num_val_samples:]],\n",
    "                                     axis=0)\n",
    "    \n",
    "    partial_train_labels=np.concatenate([train_labels[:i*num_val_samples],\n",
    "                                        train_labels[(i+1)*num_val_samples:]],\n",
    "                                       axis=0)\n",
    "    \n",
    "    model=build_model()\n",
    "    model.fit(partial_train_data,partial_train_labels,\n",
    "             epochs=num_epochs,batch_size=1,verbose=0)\n",
    "    val_mse,val_mae=model.evaluate(val_data,val_data_labels,verbose=0)\n",
    "    all_scores.append(val_mae)\n"
   ]
  },
  {
   "cell_type": "code",
   "execution_count": 25,
   "id": "abd4caca",
   "metadata": {},
   "outputs": [
    {
     "data": {
      "text/plain": [
       "[1.9206026792526245,\n",
       " 2.3369388580322266,\n",
       " 2.5221776962280273,\n",
       " 2.4304513931274414]"
      ]
     },
     "execution_count": 25,
     "metadata": {},
     "output_type": "execute_result"
    }
   ],
   "source": [
    "all_scores"
   ]
  },
  {
   "cell_type": "code",
   "execution_count": 26,
   "id": "a261d1a0",
   "metadata": {},
   "outputs": [
    {
     "data": {
      "text/plain": [
       "2.30254265666008"
      ]
     },
     "execution_count": 26,
     "metadata": {},
     "output_type": "execute_result"
    }
   ],
   "source": [
    "np.mean(all_scores)"
   ]
  },
  {
   "cell_type": "markdown",
   "id": "777ec2ea",
   "metadata": {},
   "source": [
    "Las diferentes ejecuciones muestran puntuaciones de validacion diferentes desde 1.9 a 2.52. La media 2.3 es una \n",
    "metrica mucho mas fiable que cualquier puntuacion individual: esa es la clave de K ITERACIONES.\n",
    "En este caso nos desviamos de una media en 2300 dolares lo cual es bastante si consideramos que los precios van\n",
    "de 5000 a 50.000 dolares\n"
   ]
  },
  {
   "cell_type": "markdown",
   "id": "75a4962c",
   "metadata": {},
   "source": [
    "Probemos en entrenar la red un poco mas por ej 500 epocas.\n",
    "Para mantener un registro de lo bien que funciona el modelo en cada repeticion, vamos\n",
    "a modificar el bucle de entrenamiento para guardar el registro de puntuacion de la \n",
    "validacion por repeticion."
   ]
  },
  {
   "cell_type": "code",
   "execution_count": 30,
   "id": "e61cd927",
   "metadata": {},
   "outputs": [
    {
     "name": "stdout",
     "output_type": "stream",
     "text": [
      "processing fold # 0\n",
      "processing fold # 1\n",
      "processing fold # 2\n",
      "processing fold # 3\n"
     ]
    }
   ],
   "source": [
    "\n",
    "k=4\n",
    "\n",
    "num_val_samples=len(train_data)//k\n",
    "num_epochs=500\n",
    "all_mae_histories=[]\n",
    "\n",
    "for i in range(k):\n",
    "    print('processing fold #',i)\n",
    "    val_data=train_data[i*num_val_samples:(i+1)*num_val_samples]\n",
    "    val_data_labels=train_labels[i*num_val_samples:(i+1)*num_val_samples]\n",
    "    \n",
    "    partial_train_data=np.concatenate([train_data[:i*num_val_samples],\n",
    "                                      train_data[(i+1)*num_val_samples:]],\n",
    "                                     axis=0)\n",
    "    \n",
    "    partial_train_labels=np.concatenate([train_labels[:i*num_val_samples],\n",
    "                                        train_labels[(i+1)*num_val_samples:]],\n",
    "                                       axis=0)\n",
    "    \n",
    "    model=build_model() #crea el modelo ya compilado en keras\n",
    "    history=model.fit(partial_train_data,partial_train_labels,\n",
    "                      validation_data=(val_data,val_data_labels),\n",
    "                      epochs=num_epochs,batch_size=1,verbose=0)\n",
    "    mae_history=history.history['val_mae']\n",
    "    all_mae_histories.append(mae_history)"
   ]
  },
  {
   "cell_type": "code",
   "execution_count": 32,
   "id": "74cb8283",
   "metadata": {},
   "outputs": [],
   "source": [
    "#A continuacion podemos computar la media de las puntuaciones MAE por repeticion para todas las iteraciones.\n",
    "average_mae_history=[np.mean([x[i] for x in all_mae_histories]) for i in range(num_epochs)]"
   ]
  },
  {
   "cell_type": "code",
   "execution_count": 34,
   "id": "ef02640b",
   "metadata": {},
   "outputs": [
    {
     "data": {
      "image/png": "[encoded data removed]",
      "text/plain": [
       "<Figure size 432x288 with 1 Axes>"
      ]
     },
     "metadata": {
      "needs_background": "light"
     },
     "output_type": "display_data"
    }
   ],
   "source": [
    "import matplotlib.pyplot as plt\n",
    "\n",
    "plt.plot(range(1,len(average_mae_history)+1),average_mae_history)\n",
    "plt.xlabel('Epochs')\n",
    "plt.ylabel('Validation MAE')\n",
    "plt.show()"
   ]
  },
  {
   "cell_type": "markdown",
   "id": "561ecb96",
   "metadata": {},
   "source": [
    "Puede que resulte un poco dificil ver el grafico debido a los problemas de escala y la varianza\n",
    "relativamente alta. Vamos a hacer lo siguiente:\n",
    "    \n",
    "    -Omitiremos los 10 primeros puntos de datos, que estan en una escala diferente al resto de la curva.\n",
    "    -Sustituiremos cada punto con una media movil exponencial de los puntos anteriores para obtener una\n",
    "    curva fluida."
   ]
  },
  {
   "cell_type": "code",
   "execution_count": 35,
   "id": "3aa22491",
   "metadata": {},
   "outputs": [],
   "source": [
    "def smooth_curve(points,factor=0.9):\n",
    "    smoothed_points=[]\n",
    "    for point in points:\n",
    "        if smoothed_points:\n",
    "            previous=smoothed_points[-1]\n",
    "            smoothed_points.append(previous*factor + point*(1-factor))\n",
    "        else:\n",
    "            smoothed_points.append(point)\n",
    "    return smoothed_points\n"
   ]
  },
  {
   "cell_type": "code",
   "execution_count": 36,
   "id": "5415d6cc",
   "metadata": {},
   "outputs": [
    {
     "data": {
      "image/png": "[encoded data removed]",
      "text/plain": [
       "<Figure size 432x288 with 1 Axes>"
      ]
     },
     "metadata": {
      "needs_background": "light"
     },
     "output_type": "display_data"
    }
   ],
   "source": [
    "smooth_mae_history=smooth_curve(average_mae_history[10:])\n",
    "\n",
    "plt.plot(range(1,len(smooth_mae_history)+1),smooth_mae_history)\n",
    "plt.xlabel('Epochs')\n",
    "plt.ylabel('Validation MAE')\n",
    "plt.show()"
   ]
  },
  {
   "cell_type": "markdown",
   "id": "d79f2f08",
   "metadata": {},
   "source": [
    "Segun este grafico el EAM de validacion deja de mejorar de manera significativa despues de 80 repeticiones\n",
    "\n",
    "Una vez que acabamos de ajustar otros parametros del modelo(ademas del numero de repeticiones,podriamos ajustar\n",
    "tambien el tamano de las capas ocultas), podemos entrenar un modelo de produccion final en todos los datos de \n",
    "entrenamiento, con los mejores parametros y despues observar su rendimiento en los datos de prueba."
   ]
  },
  {
   "cell_type": "code",
   "execution_count": 47,
   "id": "db267790",
   "metadata": {},
   "outputs": [
    {
     "data": {
      "text/plain": [
       "86"
      ]
     },
     "execution_count": 47,
     "metadata": {},
     "output_type": "execute_result"
    }
   ],
   "source": [
    "np.argmin(smooth_mae_history) # en la iteracion 86 logra el minimo"
   ]
  },
  {
   "cell_type": "code",
   "execution_count": 53,
   "id": "4c6e7fd4",
   "metadata": {},
   "outputs": [
    {
     "name": "stdout",
     "output_type": "stream",
     "text": [
      "4/4 [==============================] - 0s 665us/step - loss: 21.5200 - mae: 2.9859\n"
     ]
    }
   ],
   "source": [
    "#Entrenar el modelo final\n",
    "\n",
    "model=build_model()\n",
    "model.fit(train_data,train_labels,\n",
    "         epochs=86,batch_size=16,verbose=0)\n",
    "test_mse_score,test_mae_score=model.evaluate(test_data,test_labels)"
   ]
  },
  {
   "cell_type": "code",
   "execution_count": 54,
   "id": "e8327e43",
   "metadata": {},
   "outputs": [
    {
     "data": {
      "text/plain": [
       "2.9859018325805664"
      ]
     },
     "execution_count": 54,
     "metadata": {},
     "output_type": "execute_result"
    }
   ],
   "source": [
    "test_mae_score"
   ]
  },
  {
   "cell_type": "markdown",
   "id": "3b948ec3",
   "metadata": {},
   "source": [
    "La desviacio aun es grande 2980 dolares"
   ]
  },
  {
   "cell_type": "code",
   "execution_count": null,
   "id": "2bdfd5d8",
   "metadata": {},
   "outputs": [],
   "source": []
  }
 ],
 "metadata": {
  "kernelspec": {
   "display_name": "ambienteML",
   "language": "python",
   "name": "ambienteml"
  },
  "language_info": {
   "codemirror_mode": {
    "name": "ipython",
    "version": 3
   },
   "file_extension": ".py",
   "mimetype": "text/x-python",
   "name": "python",
   "nbconvert_exporter": "python",
   "pygments_lexer": "ipython3",
   "version": "3.9.7"
  }
 },
 "nbformat": 4,
 "nbformat_minor": 5
}
