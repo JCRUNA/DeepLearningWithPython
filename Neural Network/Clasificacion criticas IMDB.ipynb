{
 "cells": [
  {
   "cell_type": "code",
   "execution_count": 2,
   "id": "2d97fe6c",
   "metadata": {},
   "outputs": [],
   "source": [
    "#importo dataset \n",
    "from keras.datasets import imdb"
   ]
  },
  {
   "cell_type": "code",
   "execution_count": 3,
   "id": "68974125",
   "metadata": {},
   "outputs": [],
   "source": [
    "#Link al dataset https://www.kaggle.com/lakshmi25npathi/imdb-dataset-of-50k-movie-reviews"
   ]
  },
  {
   "cell_type": "code",
   "execution_count": 4,
   "id": "9094a4df",
   "metadata": {},
   "outputs": [],
   "source": [
    "(train_data,train_labels),(test_data,test_labels)=imdb.load_data(num_words=10000)"
   ]
  },
  {
   "cell_type": "markdown",
   "id": "8ed3eea4",
   "metadata": {},
   "source": [
    "Num_words=10000 significa que solo mantendra las 10000 palabras mas frecuentes. Se descartaran\n",
    "las palabras raras. Esto nos permite trabajar con datos vectoriales de manera manejable.\n",
    "\n",
    "**Las variables train_Data y test_Data son listas de criticas, cada critica es una lista de indices\n",
    "de palabras(codificando una secuencia de palabras), train_label y test_label son listas de ceros \n",
    "y unos, donde 0 es negativo y 1 positivo.**"
   ]
  },
  {
   "cell_type": "code",
   "execution_count": 5,
   "id": "8df7ef2b",
   "metadata": {},
   "outputs": [
    {
     "data": {
      "text/plain": [
       "[1,\n",
       " 14,\n",
       " 22,\n",
       " 16,\n",
       " 43,\n",
       " 530,\n",
       " 973,\n",
       " 1622,\n",
       " 1385,\n",
       " 65,\n",
       " 458,\n",
       " 4468,\n",
       " 66,\n",
       " 3941,\n",
       " 4,\n",
       " 173,\n",
       " 36,\n",
       " 256,\n",
       " 5,\n",
       " 25,\n",
       " 100,\n",
       " 43,\n",
       " 838,\n",
       " 112,\n",
       " 50,\n",
       " 670,\n",
       " 2,\n",
       " 9,\n",
       " 35,\n",
       " 480,\n",
       " 284,\n",
       " 5,\n",
       " 150,\n",
       " 4,\n",
       " 172,\n",
       " 112,\n",
       " 167,\n",
       " 2,\n",
       " 336,\n",
       " 385,\n",
       " 39,\n",
       " 4,\n",
       " 172,\n",
       " 4536,\n",
       " 1111,\n",
       " 17,\n",
       " 546,\n",
       " 38,\n",
       " 13,\n",
       " 447,\n",
       " 4,\n",
       " 192,\n",
       " 50,\n",
       " 16,\n",
       " 6,\n",
       " 147,\n",
       " 2025,\n",
       " 19,\n",
       " 14,\n",
       " 22,\n",
       " 4,\n",
       " 1920,\n",
       " 4613,\n",
       " 469,\n",
       " 4,\n",
       " 22,\n",
       " 71,\n",
       " 87,\n",
       " 12,\n",
       " 16,\n",
       " 43,\n",
       " 530,\n",
       " 38,\n",
       " 76,\n",
       " 15,\n",
       " 13,\n",
       " 1247,\n",
       " 4,\n",
       " 22,\n",
       " 17,\n",
       " 515,\n",
       " 17,\n",
       " 12,\n",
       " 16,\n",
       " 626,\n",
       " 18,\n",
       " 2,\n",
       " 5,\n",
       " 62,\n",
       " 386,\n",
       " 12,\n",
       " 8,\n",
       " 316,\n",
       " 8,\n",
       " 106,\n",
       " 5,\n",
       " 4,\n",
       " 2223,\n",
       " 5244,\n",
       " 16,\n",
       " 480,\n",
       " 66,\n",
       " 3785,\n",
       " 33,\n",
       " 4,\n",
       " 130,\n",
       " 12,\n",
       " 16,\n",
       " 38,\n",
       " 619,\n",
       " 5,\n",
       " 25,\n",
       " 124,\n",
       " 51,\n",
       " 36,\n",
       " 135,\n",
       " 48,\n",
       " 25,\n",
       " 1415,\n",
       " 33,\n",
       " 6,\n",
       " 22,\n",
       " 12,\n",
       " 215,\n",
       " 28,\n",
       " 77,\n",
       " 52,\n",
       " 5,\n",
       " 14,\n",
       " 407,\n",
       " 16,\n",
       " 82,\n",
       " 2,\n",
       " 8,\n",
       " 4,\n",
       " 107,\n",
       " 117,\n",
       " 5952,\n",
       " 15,\n",
       " 256,\n",
       " 4,\n",
       " 2,\n",
       " 7,\n",
       " 3766,\n",
       " 5,\n",
       " 723,\n",
       " 36,\n",
       " 71,\n",
       " 43,\n",
       " 530,\n",
       " 476,\n",
       " 26,\n",
       " 400,\n",
       " 317,\n",
       " 46,\n",
       " 7,\n",
       " 4,\n",
       " 2,\n",
       " 1029,\n",
       " 13,\n",
       " 104,\n",
       " 88,\n",
       " 4,\n",
       " 381,\n",
       " 15,\n",
       " 297,\n",
       " 98,\n",
       " 32,\n",
       " 2071,\n",
       " 56,\n",
       " 26,\n",
       " 141,\n",
       " 6,\n",
       " 194,\n",
       " 7486,\n",
       " 18,\n",
       " 4,\n",
       " 226,\n",
       " 22,\n",
       " 21,\n",
       " 134,\n",
       " 476,\n",
       " 26,\n",
       " 480,\n",
       " 5,\n",
       " 144,\n",
       " 30,\n",
       " 5535,\n",
       " 18,\n",
       " 51,\n",
       " 36,\n",
       " 28,\n",
       " 224,\n",
       " 92,\n",
       " 25,\n",
       " 104,\n",
       " 4,\n",
       " 226,\n",
       " 65,\n",
       " 16,\n",
       " 38,\n",
       " 1334,\n",
       " 88,\n",
       " 12,\n",
       " 16,\n",
       " 283,\n",
       " 5,\n",
       " 16,\n",
       " 4472,\n",
       " 113,\n",
       " 103,\n",
       " 32,\n",
       " 15,\n",
       " 16,\n",
       " 5345,\n",
       " 19,\n",
       " 178,\n",
       " 32]"
      ]
     },
     "execution_count": 5,
     "metadata": {},
     "output_type": "execute_result"
    }
   ],
   "source": [
    "train_data[0]"
   ]
  },
  {
   "cell_type": "code",
   "execution_count": 6,
   "id": "64a595cb",
   "metadata": {},
   "outputs": [
    {
     "name": "stdout",
     "output_type": "stream",
     "text": [
      "218\n",
      "450\n",
      "212\n"
     ]
    }
   ],
   "source": [
    "print(len(train_data[0]))\n",
    "print(len(train_data[10]))\n",
    "print(len(train_data[18]))"
   ]
  },
  {
   "cell_type": "markdown",
   "id": "3ee699bf",
   "metadata": {},
   "source": [
    "Como vemos cada instancia o critica tiene una tamano diferente debido a que las criticas pueden tener diferente longitud."
   ]
  },
  {
   "cell_type": "code",
   "execution_count": 7,
   "id": "98b94f73",
   "metadata": {},
   "outputs": [
    {
     "data": {
      "text/plain": [
       "1"
      ]
     },
     "execution_count": 7,
     "metadata": {},
     "output_type": "execute_result"
    }
   ],
   "source": [
    "train_labels[0] #critica positiva"
   ]
  },
  {
   "cell_type": "code",
   "execution_count": 8,
   "id": "f400f7de",
   "metadata": {},
   "outputs": [
    {
     "data": {
      "text/plain": [
       "9999"
      ]
     },
     "execution_count": 8,
     "metadata": {},
     "output_type": "execute_result"
    }
   ],
   "source": [
    "max([max(sequence) for sequence in train_data])# vemos que nos estamos limitando a las 10.000 palabras mas frecuentes"
   ]
  },
  {
   "cell_type": "code",
   "execution_count": 9,
   "id": "2d925bf6",
   "metadata": {},
   "outputs": [],
   "source": [
    "#Para poder decodificar con rapidez una de estas criticas a palabras inglesas:\n",
    "word_index=imdb.get_word_index()# es un dict que asigna palabras a un indice de enteros\n",
    "\n",
    "reverse_word_index= dict(\n",
    "[(value,key) for (key,value) in word_index.items()]) #Lo invierte, asignado indices a palabras\n",
    "\n",
    "decoded_review=' '.join(\n",
    "[reverse_word_index.get(i-3,'?') for i in train_data[10]])  #Descodifica la critica\n",
    "#los indices estan desviados en 3 porque 0 1 y 2 son indices reservados para 'relleno',\n",
    "#'inicio de secuencia' y 'desconocido'\n"
   ]
  },
  {
   "cell_type": "code",
   "execution_count": 10,
   "id": "5981d1df",
   "metadata": {},
   "outputs": [
    {
     "data": {
      "text/plain": [
       "\"? french horror cinema has seen something of a revival over the last couple of years with great films such as inside and ? romance ? on to the scene ? ? the revival just slightly but stands head and shoulders over most modern horror titles and is surely one of the best french horror films ever made ? was obviously shot on a low budget but this is made up for in far more ways than one by the originality of the film and this in turn is ? by the excellent writing and acting that ensure the film is a winner the plot focuses on two main ideas prison and black magic the central character is a man named ? sent to prison for fraud he is put in a cell with three others the quietly insane ? body building ? marcus and his retarded boyfriend daisy after a short while in the cell together they stumble upon a hiding place in the wall that contains an old ? after ? part of it they soon realise its magical powers and realise they may be able to use it to break through the prison walls br br black magic is a very interesting topic and i'm actually quite surprised that there aren't more films based on it as there's so much scope for things to do with it it's fair to say that ? makes the best of it's ? as despite it's ? the film never actually feels restrained and manages to flow well throughout director eric ? provides a great atmosphere for the film the fact that most of it takes place inside the central prison cell ? that the film feels very claustrophobic and this immensely benefits the central idea of the prisoners wanting to use magic to break out of the cell it's very easy to get behind them it's often said that the unknown is the thing that really ? people and this film proves that as the director ? that we can never really be sure of exactly what is round the corner and this helps to ensure that ? actually does manage to be quite frightening the film is memorable for a lot of reasons outside the central plot the characters are all very interesting in their own way and the fact that the book itself almost takes on its own character is very well done anyone worried that the film won't deliver by the end won't be disappointed either as the ending both makes sense and manages to be quite horrifying overall ? is a truly great horror film and one of the best of the decade highly recommended viewing\""
      ]
     },
     "execution_count": 10,
     "metadata": {},
     "output_type": "execute_result"
    }
   ],
   "source": [
    "decoded_review"
   ]
  },
  {
   "cell_type": "markdown",
   "id": "c55b07d4",
   "metadata": {},
   "source": [
    "## PREPARAR LOS DATOS\n",
    "\n",
    "No podemos introducir listas de enteros en una red neuronal. Tenemos que convertirla a tensores. Hay 2 formas\n",
    "\n",
    "    -Rellenar las listas para que tengan la misma longitud, convertirlas en un tensor de enteros con la forma\n",
    "    (muestras, indices_palabras) y despues utilizar como primera capa de la red una capa que pueda manejar esos\n",
    "    tensores de enteros (la capa embedding que veremos con detalle mas adelante en el libro)\n",
    "    \n",
    "    -Utilizar codificacion one-hot en las listas para convertirlas en vectores de ceros y unos.\n",
    "    Eso supondria, por ejemplo, convertir la secuencia [3,5] en un vector de 10.000 dimensiones que seria todo\n",
    "    ceros excepto los indices 3 y 5 que serian unos. Despues podra utilizar como primera capa de la red una capa\n",
    "    dense, para manejar datos vectoriales de punto flotante."
   ]
  },
  {
   "cell_type": "markdown",
   "id": "283de6f1",
   "metadata": {},
   "source": [
    "Vamos a utilizar la segunda opcion para vectorizar los datos, algo que haremos de forma manaual para conseguir \n",
    "la maxima claridad"
   ]
  },
  {
   "cell_type": "code",
   "execution_count": 11,
   "id": "1929f6fa",
   "metadata": {},
   "outputs": [],
   "source": [
    "import numpy as np"
   ]
  },
  {
   "cell_type": "code",
   "execution_count": 12,
   "id": "feb5f83c",
   "metadata": {},
   "outputs": [],
   "source": [
    "def vectorize_sequences(sequences,dimension=10000):\n",
    "    results=np.zeros((len(sequences),dimension)) #Crea matriz de 0s \n",
    "    for i, sequence in enumerate(sequences):\n",
    "        results[i,sequence]=1.  #pasa indices especificicos de results[i] a unos\n",
    "    return results\n",
    "\n",
    "        "
   ]
  },
  {
   "cell_type": "code",
   "execution_count": 13,
   "id": "28391a43",
   "metadata": {},
   "outputs": [],
   "source": [
    "x_train=vectorize_sequences(train_data)  # datos de entrenamiento\n",
    "x_test=vectorize_sequences(test_data) #datos de prueba vectorizados"
   ]
  },
  {
   "cell_type": "code",
   "execution_count": 14,
   "id": "23c03f5b",
   "metadata": {},
   "outputs": [
    {
     "data": {
      "text/plain": [
       "array([0., 1., 1., ..., 0., 0., 0.])"
      ]
     },
     "execution_count": 14,
     "metadata": {},
     "output_type": "execute_result"
    }
   ],
   "source": [
    "#Este es el aspecto que tienen ahora las muestras\n",
    "x_train[0]"
   ]
  },
  {
   "cell_type": "markdown",
   "id": "4907102c",
   "metadata": {},
   "source": [
    "anexo:funcion para convertir estructuas a arrays\n",
    "\n",
    "https://interactivechaos.com/es/python/function/numpyasarray"
   ]
  },
  {
   "cell_type": "code",
   "execution_count": 15,
   "id": "90c2d352",
   "metadata": {},
   "outputs": [],
   "source": [
    "#Tambien deberiamos vectorizar las etiquetas, lo cual es bastante simple\n",
    "y_train=np.asarray(train_labels,dtype='float64')\n",
    "y_test=np.asarray(test_labels,dtype='float64')"
   ]
  },
  {
   "cell_type": "markdown",
   "id": "1fa81d28",
   "metadata": {},
   "source": [
    "Ahora los datos estan listos para introducirlos en la red neuronal"
   ]
  },
  {
   "cell_type": "markdown",
   "id": "571e42a1",
   "metadata": {},
   "source": [
    "#### CREAR LA RED\n",
    "\n",
    "Los datos de entrada son vectores y las etiquetas son escalares(unos y ceros). Esta es la configuracion\n",
    "mas sencilla con la que nos vamos a encontrar. Un tipo de red que tiene un buen rendimiento en un problema\n",
    "real asi es una pila sencilla de capas completamente conectadas(Dense) con activaciones relu:Dense(16,activation='relu')\n",
    "    \n",
    "El argumento que se pasa a cada capa Dense(16) es el numero de unidades ocultas de la capa. Una unidad oculta es una\n",
    "dimension en el espacio de representacion de la capa. Quiza recuerde que la activacion relu implementa la siguiente\n",
    "cadena de operaciones con tensores:\n",
    "    \n",
    "    output=relu(dot(W,input)+b)\n",
    "\n",
    "Tener 16 unidades ocultas significa que la matriz de peso W tendra la forma(input_dimension,16):\n",
    "    el producto escalar con W proyectara los datos de entrada en un espacio de  representacion de 16\n",
    "    dimensiones (y despues agregaremos el vector de sesgo b y aplicaremos la operacion relu)\n",
    "    Podemos entender de forma intuitiva la dimensionalidad de nuestro espacio de representaciones \n",
    "    internas. \n",
    "    \n",
    "    Tener mas unidades ocultas (un espacio de representacion mayor) permite a la red\n",
    "    aprender representaciones mas complejas, pero hace que la red sea mas inasequible a nivel computacional\n",
    "    y puede llevar al aprendizaje de patrones no deseados (patrones que mejoran el rendimiento con los\n",
    "    los datos de entrenamiento pero no con los datos de prueba).\n",
    "    Hay 2 decisiones clave sobre la arquitectura que hay que tomar acerca de una pila de capas Dense:\n",
    "        \n",
    "        -Cuantas capas utilizar\n",
    "        -Cuantas unidades ocultas elegira para cada capa.\n"
   ]
  },
  {
   "cell_type": "markdown",
   "id": "1137a08a",
   "metadata": {},
   "source": [
    "#### DEFINICION DEL MODELO"
   ]
  },
  {
   "cell_type": "code",
   "execution_count": 16,
   "id": "939ab125",
   "metadata": {},
   "outputs": [],
   "source": [
    "from keras import layers\n",
    "from keras import models"
   ]
  },
  {
   "cell_type": "code",
   "execution_count": 17,
   "id": "6f0176ac",
   "metadata": {},
   "outputs": [],
   "source": [
    "model=models.Sequential()\n",
    "model.add(layers.Dense(16,activation='relu',input_shape=(10000,)))\n",
    "model.add(layers.Dense(16,activation='relu'))\n",
    "model.add(layers.Dense(1,activation='sigmoid'))"
   ]
  },
  {
   "cell_type": "markdown",
   "id": "e6c38753",
   "metadata": {},
   "source": [
    "#### ELECCION DE LA FUNCION DE PERDIDA Y DEL OPTIMIZADOR\n",
    "\n",
    "Para problemas de clasificacion binaria se usa la funcion binary_cross_entropy. Como optimizador usamos rmsprop"
   ]
  },
  {
   "cell_type": "code",
   "execution_count": 18,
   "id": "1181e53b",
   "metadata": {},
   "outputs": [],
   "source": [
    "model.compile(optimizer='rmsprop',\n",
    "             loss='binary_crossentropy',\n",
    "             metrics=['accuracy'])"
   ]
  },
  {
   "cell_type": "markdown",
   "id": "e1a4738b",
   "metadata": {},
   "source": [
    "Estamos pasando el optimizador, la funcion de perdida y la metrica como cadenas, lo cual es\n",
    "posible porque rmsprop, binary_crossentropy forman parte de keras.\n",
    "A veces puede que le interese configurar los parametros del optimizador para pasar una funcion de perdida \n",
    "o de metrica personalizada. Lo primero que puede hacerse pasando una instancia de clase optimizadora como\n",
    "argumento optimizer, como muestra el listado 3.5, lo segundo pasando objetos a la funcion como argumentos\n",
    "loss y/o metrics como se muestras en el listado 3.6"
   ]
  },
  {
   "cell_type": "code",
   "execution_count": 19,
   "id": "1c91549c",
   "metadata": {},
   "outputs": [],
   "source": [
    "#listado 3.5\n",
    "\n",
    "from tensorflow.keras import optimizers\n",
    "\n",
    "model.compile(optimizer=optimizers.RMSprop(learning_rate=0.001),\n",
    "             loss='binary_crossentropy',\n",
    "             metrics=['accuracy'])"
   ]
  },
  {
   "cell_type": "code",
   "execution_count": 20,
   "id": "43cde5b1",
   "metadata": {},
   "outputs": [],
   "source": [
    "#listado 3.6\n",
    "\n",
    "from tensorflow.keras import losses\n",
    "from tensorflow.keras import metrics\n",
    "\n",
    "model.compile(optimizer=optimizers.RMSprop(learning_rate=0.001),\n",
    "             loss=losses.binary_crossentropy,\n",
    "             metrics=[metrics.binary_crossentropy])"
   ]
  },
  {
   "cell_type": "markdown",
   "id": "417c57fd",
   "metadata": {},
   "source": [
    "#### VALIDACION DE NUESTRO ENFOQUE\n",
    "\n",
    "Para monitorizar durante el entrenamiento la exactitud del modelo con datos que no ha visto nunca, crearemos\n",
    "un conjunto de validacion apartando las 10.000 muestras del conjunto de datos de entrenamiento original."
   ]
  },
  {
   "cell_type": "code",
   "execution_count": 21,
   "id": "1413e437",
   "metadata": {},
   "outputs": [],
   "source": [
    "x_val=x_train[:10000]\n",
    "partial_x_train=x_train[10000:]\n",
    "\n",
    "y_val=y_train[:10000]\n",
    "partial_y_train=y_train[10000:]"
   ]
  },
  {
   "cell_type": "markdown",
   "id": "c02f883c",
   "metadata": {},
   "source": [
    "Ahora vamos a entrenar al modelo para 20 repeticiones (20 iteraciones sobre todas las muestras en los tensores x_train e y_train)\n",
    "en minilotes de 512 muestras. \n",
    "\n",
    "**Al mismo tiempo vamos a monitorizar la perdida y la exactitud en las 10000 muestras que separamos.\n",
    "Esto se hace pasando los datos de validacion como el argumento validation_data.**"
   ]
  },
  {
   "cell_type": "markdown",
   "id": "464cb459",
   "metadata": {},
   "source": [
    "##### ENTRENAR EL MODELO"
   ]
  },
  {
   "cell_type": "code",
   "execution_count": 22,
   "id": "c5dca035",
   "metadata": {},
   "outputs": [],
   "source": [
    "model.compile(optimizer='rmsprop',\n",
    "             loss='binary_crossentropy',\n",
    "             metrics=['accuracy'])"
   ]
  },
  {
   "cell_type": "code",
   "execution_count": 23,
   "id": "66a10dcf",
   "metadata": {},
   "outputs": [
    {
     "name": "stdout",
     "output_type": "stream",
     "text": [
      "Epoch 1/20\n",
      "30/30 [==============================] - 4s 77ms/step - loss: 0.5440 - accuracy: 0.7725 - val_loss: 0.4212 - val_accuracy: 0.8528\n",
      "Epoch 2/20\n",
      "30/30 [==============================] - 1s 18ms/step - loss: 0.3354 - accuracy: 0.9001 - val_loss: 0.3238 - val_accuracy: 0.8851\n",
      "Epoch 3/20\n",
      "30/30 [==============================] - 1s 17ms/step - loss: 0.2403 - accuracy: 0.9275 - val_loss: 0.2878 - val_accuracy: 0.8871\n",
      "Epoch 4/20\n",
      "30/30 [==============================] - 1s 17ms/step - loss: 0.1872 - accuracy: 0.9439 - val_loss: 0.2775 - val_accuracy: 0.8897\n",
      "Epoch 5/20\n",
      "30/30 [==============================] - 1s 17ms/step - loss: 0.1527 - accuracy: 0.9548 - val_loss: 0.2868 - val_accuracy: 0.8862\n",
      "Epoch 6/20\n",
      "30/30 [==============================] - 1s 18ms/step - loss: 0.1241 - accuracy: 0.9653 - val_loss: 0.3026 - val_accuracy: 0.8787\n",
      "Epoch 7/20\n",
      "30/30 [==============================] - 1s 18ms/step - loss: 0.1047 - accuracy: 0.9701 - val_loss: 0.2979 - val_accuracy: 0.8866\n",
      "Epoch 8/20\n",
      "30/30 [==============================] - 1s 17ms/step - loss: 0.0846 - accuracy: 0.9781 - val_loss: 0.3147 - val_accuracy: 0.8825\n",
      "Epoch 9/20\n",
      "30/30 [==============================] - 1s 17ms/step - loss: 0.0700 - accuracy: 0.9827 - val_loss: 0.3326 - val_accuracy: 0.8815\n",
      "Epoch 10/20\n",
      "30/30 [==============================] - 1s 17ms/step - loss: 0.0544 - accuracy: 0.9891 - val_loss: 0.3674 - val_accuracy: 0.8741\n",
      "Epoch 11/20\n",
      "30/30 [==============================] - 0s 17ms/step - loss: 0.0453 - accuracy: 0.9914 - val_loss: 0.3983 - val_accuracy: 0.8766\n",
      "Epoch 12/20\n",
      "30/30 [==============================] - 1s 17ms/step - loss: 0.0353 - accuracy: 0.9942 - val_loss: 0.4058 - val_accuracy: 0.8790\n",
      "Epoch 13/20\n",
      "30/30 [==============================] - 1s 17ms/step - loss: 0.0273 - accuracy: 0.9963 - val_loss: 0.4303 - val_accuracy: 0.8738\n",
      "Epoch 14/20\n",
      "30/30 [==============================] - 1s 17ms/step - loss: 0.0214 - accuracy: 0.9976 - val_loss: 0.4672 - val_accuracy: 0.8762\n",
      "Epoch 15/20\n",
      "30/30 [==============================] - 1s 18ms/step - loss: 0.0180 - accuracy: 0.9977 - val_loss: 0.4876 - val_accuracy: 0.8709\n",
      "Epoch 16/20\n",
      "30/30 [==============================] - 1s 17ms/step - loss: 0.0111 - accuracy: 0.9989 - val_loss: 0.5199 - val_accuracy: 0.8725\n",
      "Epoch 17/20\n",
      "30/30 [==============================] - 0s 16ms/step - loss: 0.0098 - accuracy: 0.9987 - val_loss: 0.5955 - val_accuracy: 0.8703\n",
      "Epoch 18/20\n",
      "30/30 [==============================] - 0s 16ms/step - loss: 0.0096 - accuracy: 0.9985 - val_loss: 0.5963 - val_accuracy: 0.8730\n",
      "Epoch 19/20\n",
      "30/30 [==============================] - 0s 17ms/step - loss: 0.0043 - accuracy: 0.9996 - val_loss: 0.6217 - val_accuracy: 0.8722\n",
      "Epoch 20/20\n",
      "30/30 [==============================] - 0s 16ms/step - loss: 0.0058 - accuracy: 0.9994 - val_loss: 0.6383 - val_accuracy: 0.8725\n"
     ]
    }
   ],
   "source": [
    "history=model.fit(partial_x_train,\n",
    "                  partial_y_train,\n",
    "                 epochs=20,\n",
    "                 batch_size=512,\n",
    "                 validation_data=(x_val,y_val))\n",
    "\n"
   ]
  },
  {
   "cell_type": "markdown",
   "id": "1a107813",
   "metadata": {},
   "source": [
    "En CPU esto llevara menos de 2 segundos por repeticion, el entrenamiento acaba en 20 segundos.\n",
    "\n",
    "Al final de cada repeticion, hay una pequena pausa mientras el modelo computa su perdida y su\n",
    "precision en las 10.000 muestras de los datos de validacion.\n",
    "\n",
    "Observe que la llamada a model.fit() devuelve un objeto History.\n",
    "\n",
    "Este objeto tiene un miembro history, que es un diccionario que contiene datos sobre todo lo que ha ocurrido\n",
    "durante el entrenamiento. Vamos a echarle un vistazo:\n",
    "    "
   ]
  },
  {
   "cell_type": "code",
   "execution_count": 24,
   "id": "6b81a5ad",
   "metadata": {},
   "outputs": [],
   "source": [
    "history_dict=history.history\n"
   ]
  },
  {
   "cell_type": "code",
   "execution_count": 25,
   "id": "40166a6e",
   "metadata": {},
   "outputs": [
    {
     "data": {
      "text/plain": [
       "dict_keys(['loss', 'accuracy', 'val_loss', 'val_accuracy'])"
      ]
     },
     "execution_count": 25,
     "metadata": {},
     "output_type": "execute_result"
    }
   ],
   "source": [
    "history_dict.keys()"
   ]
  },
  {
   "cell_type": "code",
   "execution_count": 26,
   "id": "324cef05",
   "metadata": {},
   "outputs": [
    {
     "data": {
      "text/plain": [
       "[0.7724666595458984,\n",
       " 0.9000666737556458,\n",
       " 0.9275333285331726,\n",
       " 0.9439333081245422,\n",
       " 0.954800009727478,\n",
       " 0.9653333425521851,\n",
       " 0.9701333045959473,\n",
       " 0.9781333208084106,\n",
       " 0.9827333092689514,\n",
       " 0.989133358001709,\n",
       " 0.9914000034332275,\n",
       " 0.9941999912261963,\n",
       " 0.9962666630744934,\n",
       " 0.9976000189781189,\n",
       " 0.9977333545684814,\n",
       " 0.9988666772842407,\n",
       " 0.9986666440963745,\n",
       " 0.998533308506012,\n",
       " 0.9995999932289124,\n",
       " 0.9994000196456909]"
      ]
     },
     "execution_count": 26,
     "metadata": {},
     "output_type": "execute_result"
    }
   ],
   "source": [
    "history_dict['accuracy']"
   ]
  },
  {
   "cell_type": "markdown",
   "id": "f728903e",
   "metadata": {},
   "source": [
    "El diccionario contiene cuatro entradas una por metrica que se ha monitorizado durante el entrenamiento y \n",
    "durante la validacion. Vamos a usar matplotlib para trazar la perdida de entrenamiento y la de validacion,\n",
    "como tambien la exactitud del entrenamiento y la de la validacion,"
   ]
  },
  {
   "cell_type": "code",
   "execution_count": 27,
   "id": "2357e1b4",
   "metadata": {},
   "outputs": [
    {
     "data": {
      "text/plain": [
       "<matplotlib.legend.Legend at 0x1f88e284fd0>"
      ]
     },
     "execution_count": 27,
     "metadata": {},
     "output_type": "execute_result"
    },
    {
     "data": {
      "image/png": "[encoded data removed]",
      "text/plain": [
       "<Figure size 432x288 with 1 Axes>"
      ]
     },
     "metadata": {
      "needs_background": "light"
     },
     "output_type": "display_data"
    }
   ],
   "source": [
    "import matplotlib.pyplot as plt\n",
    "\n",
    "history_dict=history.history\n",
    "loss_values=history_dict['loss']\n",
    "val_loss_values=history_dict['val_loss']\n",
    "\n",
    "epochs=range(1,len(loss_values)+1)\n",
    "\n",
    "plt.plot(epochs,loss_values,'bo',label='Training Loss')\n",
    "plt.plot(epochs,val_loss_values,'g',label='Validation Loss')\n",
    "plt.title('Training and Validation loss')\n",
    "plt.xlabel('Epochs')\n",
    "plt.ylabel('Loss')\n",
    "plt.legend()\n",
    "\n"
   ]
  },
  {
   "cell_type": "code",
   "execution_count": 28,
   "id": "5857f366",
   "metadata": {},
   "outputs": [
    {
     "data": {
      "text/plain": [
       "<matplotlib.legend.Legend at 0x1f88e3cae80>"
      ]
     },
     "execution_count": 28,
     "metadata": {},
     "output_type": "execute_result"
    },
    {
     "data": {
      "image/png": "[encoded data removed]",
      "text/plain": [
       "<Figure size 432x288 with 1 Axes>"
      ]
     },
     "metadata": {
      "needs_background": "light"
     },
     "output_type": "display_data"
    }
   ],
   "source": [
    "#Trazar la exactitud del entrenamiento y de la validacion\n",
    "\n",
    "plt.clf() #limpia la figura\n",
    "\n",
    "acc=history_dict['accuracy']\n",
    "val_acc=history_dict['val_accuracy']\n",
    "\n",
    "plt.plot(epochs,acc,'bo',label='Training acc')\n",
    "plt.plot(epochs,val_acc,'g',label='Validation acc')\n",
    "plt.title('Training and Validation accuracy')\n",
    "plt.xlabel('Epochs')\n",
    "plt.ylabel('Accuracy')\n",
    "plt.legend()\n"
   ]
  },
  {
   "cell_type": "markdown",
   "id": "878405c3",
   "metadata": {},
   "source": [
    "Como puede ver la perdida de entrenamiento se reduce con cada repeticion y la exactitud \n",
    "del entrenamiento aumenta con cada repeticion. Eso es lo que cabria esperar cuando se\n",
    "ejecuta una optimizacion de descenso de gradiente: la cantidad que estamos intentando minimizar\n",
    "deberia ser menor con cada iteracion.\n",
    "Pero no es el caso de la perdida y la exactitud de la validacion: parecen alcanzar puntos maximos en la cuarta\n",
    "iteracion. Este es un ejemplo de sobreajuste. Estamos sobreoptimizando los datos de entrenamiento y acabamos\n",
    "aprendiendo representaciones que son especificas de dichos datos y no se aplican de forma general a los datos externos\n",
    "al conjunto de entrenamiento. \n",
    "\n",
    "En este caso para evitar el sobreajuste, podriamos detener el entrenamiento despues de 3 repeticiones. En general\n",
    "podemos utilizar varias tecnicas para reducir el sobre ajuste que veremos despues."
   ]
  },
  {
   "cell_type": "code",
   "execution_count": 29,
   "id": "85c82ab3",
   "metadata": {},
   "outputs": [
    {
     "name": "stdout",
     "output_type": "stream",
     "text": [
      "Epoch 1/4\n",
      "49/49 [==============================] - 1s 13ms/step - loss: 0.4541 - accuracy: 0.8226\n",
      "Epoch 2/4\n",
      "49/49 [==============================] - 1s 12ms/step - loss: 0.2605 - accuracy: 0.9083\n",
      "Epoch 3/4\n",
      "49/49 [==============================] - 1s 13ms/step - loss: 0.2029 - accuracy: 0.9274\n",
      "Epoch 4/4\n",
      "49/49 [==============================] - 1s 12ms/step - loss: 0.1678 - accuracy: 0.9399\n",
      "782/782 [==============================] - 1s 1ms/step - loss: 0.2935 - accuracy: 0.8844\n"
     ]
    }
   ],
   "source": [
    "#Vamos a entrenar de 0 una nueva reed desde 0 para 4 repeticiones y despues evaluarla con los datos de prueba.\n",
    "\n",
    "model=models.Sequential()\n",
    "model.add(layers.Dense(16,activation='relu',input_shape=(10000,)))\n",
    "model.add(layers.Dense(16,activation='relu'))\n",
    "model.add(layers.Dense(1,activation='sigmoid'))\n",
    "\n",
    "model.compile(optimizer='rmsprop',\n",
    "             loss='binary_crossentropy',\n",
    "             metrics=['accuracy'])\n",
    "\n",
    "model.fit(x_train,y_train,epochs=4,batch_size=512)\n",
    "results=model.evaluate(x_test,y_test) #evaluo perdida y precision en el conjunto de prueba"
   ]
  },
  {
   "cell_type": "code",
   "execution_count": 30,
   "id": "f883aa09",
   "metadata": {},
   "outputs": [
    {
     "data": {
      "text/plain": [
       "[0.29349589347839355, 0.8843600153923035]"
      ]
     },
     "execution_count": 30,
     "metadata": {},
     "output_type": "execute_result"
    }
   ],
   "source": [
    "results"
   ]
  },
  {
   "cell_type": "markdown",
   "id": "e07acd35",
   "metadata": {},
   "source": [
    "Con este enfoque conseguimos una exactitud del 88%. Con los enfoques de ultima generacion\n",
    "deberia ser capaz de acercarse al 95%"
   ]
  },
  {
   "cell_type": "markdown",
   "id": "5eff4f0d",
   "metadata": {},
   "source": [
    "##### UTILIZAR LA RED ENTRENADA PARA GENERAR PREDICCIONES CON DATOS NUEVOS\n",
    "\n",
    "Tras haber entrenado una red, nos interesa utilizarla en un entorno practico. Podemos generar\n",
    "la probabilidad de que las criticas sean positivas al utilizar el metodo predict()"
   ]
  },
  {
   "cell_type": "code",
   "execution_count": 31,
   "id": "8c6bebce",
   "metadata": {},
   "outputs": [
    {
     "data": {
      "text/plain": [
       "array([[0.18947804],\n",
       "       [0.9996424 ],\n",
       "       [0.79723203],\n",
       "       ...,\n",
       "       [0.10052654],\n",
       "       [0.06186286],\n",
       "       [0.48727256]], dtype=float32)"
      ]
     },
     "execution_count": 31,
     "metadata": {},
     "output_type": "execute_result"
    }
   ],
   "source": [
    "model.predict(x_test)"
   ]
  },
  {
   "cell_type": "markdown",
   "id": "f72ab3b9",
   "metadata": {},
   "source": [
    "Como se puede apreciar, la red tiene confianza con algunas muestras (0.99 o mas, 0.01 o menos) pero \n",
    "menos confianza en otras (0.5537..)"
   ]
  },
  {
   "cell_type": "markdown",
   "id": "ce35af10",
   "metadata": {},
   "source": []
  },
  {
   "cell_type": "code",
   "execution_count": null,
   "id": "ec5ca581",
   "metadata": {},
   "outputs": [],
   "source": []
  },
  {
   "cell_type": "code",
   "execution_count": null,
   "id": "2bcc5a0d",
   "metadata": {},
   "outputs": [],
   "source": []
  },
  {
   "cell_type": "code",
   "execution_count": null,
   "id": "d138fd86",
   "metadata": {},
   "outputs": [],
   "source": []
  },
  {
   "cell_type": "code",
   "execution_count": null,
   "id": "c3489713",
   "metadata": {},
   "outputs": [],
   "source": []
  }
 ],
 "metadata": {
  "interpreter": {
   "hash": "a5b1ca146a2b6c1dad98eb34c68ce0978784e2a044fb88d9a2019968fdd7143a"
  },
  "kernelspec": {
   "display_name": "ambienteML",
   "language": "python",
   "name": "python3"
  },
  "language_info": {
   "codemirror_mode": {
    "name": "ipython",
    "version": 3
   },
   "file_extension": ".py",
   "mimetype": "text/x-python",
   "name": "python",
   "nbconvert_exporter": "python",
   "pygments_lexer": "ipython3",
   "version": "3.9.7"
  }
 },
 "nbformat": 4,
 "nbformat_minor": 5
}
